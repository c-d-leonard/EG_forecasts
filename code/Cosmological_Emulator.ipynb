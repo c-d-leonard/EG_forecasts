{
 "cells": [
  {
   "cell_type": "markdown",
   "id": "f60918c8-1e9d-43f4-b942-171bcfe76298",
   "metadata": {},
   "source": [
    "## Cosmological Emulator"
   ]
  },
  {
   "cell_type": "markdown",
   "id": "3bd81aed-1ea8-465a-b67b-71d02e94f3c2",
   "metadata": {},
   "source": [
    "In this example, we will calculate the matter power spectrum using Cosmological Emulator such as MiraTitan and BaccoEmu."
   ]
  },
  {
   "cell_type": "code",
   "execution_count": null,
   "id": "38fd7afe-1a3b-42c7-94b8-7bfbfb1b6874",
   "metadata": {},
   "outputs": [],
   "source": [
    "import pyccl as ccl\n",
    "import numpy as np\n",
    "import matplotlib.pyplot as plt\n",
    "%matplotlib inline\n",
    "%config InlineBackend.figure_format = 'retina'"
   ]
  },
  {
   "cell_type": "code",
   "execution_count": null,
   "id": "40f5d98c-1a79-4d3d-bf95-09600236123e",
   "metadata": {},
   "outputs": [],
   "source": [
    "plt.rcParams['figure.figsize']=(6.5,5.5)\n",
    "np.set_printoptions(linewidth=120)\n",
    "np.get_printoptions()"
   ]
  },
  {
   "cell_type": "markdown",
   "id": "81db65cd-49a9-4c13-b2b9-ada88bbe8148",
   "metadata": {},
   "source": [
    "### baccoemu"
   ]
  },
  {
   "cell_type": "markdown",
   "id": "7dc6374f-69e4-4635-a672-9671fe5de3ba",
   "metadata": {},
   "source": [
    "These below sentences are based on https://baccoemu.readthedocs.io/en/latest/#"
   ]
  },
  {
   "cell_type": "markdown",
   "id": "7e50a5d3-b4b6-47e6-a59a-5d6db42f0831",
   "metadata": {},
   "source": [
    "We begin the range of wavenumber and redshift.\n",
    "you can check the k-range on which the linear/non-linear emulator is defined you can type"
   ]
  },
  {
   "cell_type": "code",
   "execution_count": null,
   "id": "93b46cd9-787d-4534-b76d-cfa9c3cc0a48",
   "metadata": {
    "tags": []
   },
   "outputs": [],
   "source": [
    "import baccoemu\n",
    "emulator = baccoemu.Matter_powerspectrum()\n",
    "k_range_lin = emulator.emulator['linear']['k']\n",
    "k_range_nl = emulator.emulator['nonlinear']['k']"
   ]
  },
  {
   "cell_type": "code",
   "execution_count": null,
   "id": "e63955bd-99d7-419e-9255-f8a49833f648",
   "metadata": {},
   "outputs": [],
   "source": [
    "print(\"linear:\", \"min:\", min(k_range_lin), \"[h/Mpc]\", \"max:\", max(k_range_lin), \"[h/Mpc]\")\n",
    "print(\"non-linear:\", \"min:\", min(k_range_nl), \"[h/Mpc]\", \"max:\", max(k_range_nl), \"[h/Mpc]\")"
   ]
  },
  {
   "cell_type": "code",
   "execution_count": null,
   "id": "036afea2-67a9-431c-851b-79d41fbfc29b",
   "metadata": {},
   "outputs": [],
   "source": [
    "kmin, kmax, nk = min(k_range_nl), max(k_range_nl), 128\n",
    "k_bemu = np.logspace(np.log10(kmin*0.67), np.log10(kmax*0.67), nk) # Wavenumber [Mpc]^-1\n",
    "a = 1. # Scale factor a z=0"
   ]
  },
  {
   "cell_type": "code",
   "execution_count": null,
   "id": "5f716854-17b2-4408-a047-6c12395b4f0e",
   "metadata": {},
   "outputs": [],
   "source": [
    "bemu_lin = ccl.BaccoemuLinear()\n",
    "cosmo_lin = ccl.Cosmology(Omega_c=0.27, Omega_b=0.05, h=0.67, n_s=0.96, sigma8=0.83,\n",
    "                      m_nu=0.1, transfer_function='boltzmann_camb',\n",
    "                      matter_power_spectrum=bemu_lin)"
   ]
  },
  {
   "cell_type": "code",
   "execution_count": null,
   "id": "97bbe711-b2fa-4740-972a-023cf1c36176",
   "metadata": {},
   "outputs": [],
   "source": [
    "bemu_nl = ccl.BaccoemuNonlinear()\n",
    "cosmo_nl = ccl.Cosmology(Omega_c=0.27, Omega_b=0.05, h=0.67, n_s=0.96, sigma8=0.83,\n",
    "                      m_nu=0.1, transfer_function='boltzmann_camb',\n",
    "                      matter_power_spectrum=bemu_nl)"
   ]
  },
  {
   "cell_type": "code",
   "execution_count": null,
   "id": "c825d364-623b-416f-8c21-296ae73ea198",
   "metadata": {},
   "outputs": [],
   "source": [
    "# Plot linear and nonlinear power spectra\n",
    "pk_lin_bemu = cosmo_lin.get_linear_power()\n",
    "pk_nl_bemu = cosmo_nl.get_nonlin_power()"
   ]
  },
  {
   "cell_type": "code",
   "execution_count": null,
   "id": "0983503f-560a-4f41-ae7d-068ea6cc74a3",
   "metadata": {},
   "outputs": [],
   "source": [
    "plt.plot(k_bemu, pk_lin_bemu(k_bemu, a), 'b-', label=\"linear\")\n",
    "plt.plot(k_bemu, pk_nl_bemu(k_bemu, a), 'r-', label=\"non-linear\")\n",
    "\n",
    "plt.xscale('log')\n",
    "plt.yscale('log')\n",
    "plt.xticks(fontsize=18)\n",
    "plt.yticks(fontsize=18)\n",
    "plt.legend(loc='lower left',fontsize=10)\n",
    "plt.xlabel('$k\\quad[\\\\rm Mpc^{-1}]$', fontsize=22)\n",
    "plt.ylabel('$P(k)\\quad[{\\\\rm Mpc}]^3$', fontsize=22)\n",
    "plt.title(\"BaccoEmu\", fontsize=22)\n",
    "\n",
    "plt.tight_layout()\n",
    "plt.show()"
   ]
  },
  {
   "cell_type": "markdown",
   "id": "c67556a7-35ef-4681-9590-18767895dcbe",
   "metadata": {},
   "source": [
    "### baccoemu baryon-corrected matter power spectrum emulator"
   ]
  },
  {
   "cell_type": "markdown",
   "id": "471e1e28-58eb-441a-ad05-6d6f5017f525",
   "metadata": {},
   "source": [
    "You can also compute the baryon corrected power spectrum emulator."
   ]
  },
  {
   "cell_type": "code",
   "execution_count": null,
   "id": "a7a56fa7-51d7-42ad-b0f4-3fb0ce0908ac",
   "metadata": {},
   "outputs": [],
   "source": [
    "baryons = ccl.BaccoemuBaryons()\n",
    "\n",
    "pk2d_gro = cosmo_nl.get_nonlin_power()\n",
    "pk2d_bcm = baryons.include_baryonic_effects(cosmo_nl, pk2d_gro)"
   ]
  },
  {
   "cell_type": "code",
   "execution_count": null,
   "id": "c6a25441-80be-47d3-b60f-6b5ba134430f",
   "metadata": {},
   "outputs": [],
   "source": [
    "plt.plot(k_bemu, pk2d_bcm(k_bemu, a) / pk2d_gro(k_bemu, a))\n",
    "\n",
    "plt.xscale('log')\n",
    "plt.xticks(fontsize=18)\n",
    "plt.yticks(fontsize=18)\n",
    "plt.xlabel('$k\\quad[\\\\rm Mpc^{-1}]$', fontsize=22)\n",
    "plt.ylabel('$P_{\\\\rm baryon}(k)/P_{\\\\rm nl}(k)$', fontsize=22)\n",
    "\n",
    "plt.tight_layout()\n",
    "plt.show()"
   ]
  },
  {
   "cell_type": "markdown",
   "id": "15ff4c29-d138-4274-bb29-57cc80775fcc",
   "metadata": {},
   "source": [
    "If you want to update the parameters, you can type"
   ]
  },
  {
   "cell_type": "code",
   "execution_count": null,
   "id": "d03cefce-04b8-411d-a8bd-6a0016d05208",
   "metadata": {},
   "outputs": [],
   "source": [
    "baryons.update_parameters(log10_M_c=12.7)"
   ]
  },
  {
   "cell_type": "markdown",
   "id": "cf334fe4-8c8d-43ff-bd91-ca3f617fe40d",
   "metadata": {},
   "source": [
    "### MiraTitan"
   ]
  },
  {
   "cell_type": "code",
   "execution_count": null,
   "id": "f4041f9a-d295-49d1-afe4-b858b6da04ed",
   "metadata": {},
   "outputs": [],
   "source": [
    "kmin, kmax, nk = 1e-4, 1e1, 128\n",
    "k_cemu = np.logspace(np.log10(kmin), np.log10(kmax), nk) # Wavenumber [Mpc]^-1\n",
    "a = 1. # Scale factor a z=0"
   ]
  },
  {
   "cell_type": "code",
   "execution_count": null,
   "id": "1b021267-ff83-467c-aa9d-5df5bcdcb801",
   "metadata": {},
   "outputs": [],
   "source": [
    "cemu = ccl.CosmicemuMTIVPk(\"tot\")\n",
    "cosmo = ccl.Cosmology(Omega_c=0.27, Omega_b=0.05, h=0.67, sigma8=0.8, n_s=0.96, \n",
    "                      Neff=3.04, transfer_function='boltzmann_class', matter_power_spectrum=cemu)"
   ]
  },
  {
   "cell_type": "markdown",
   "id": "c96e8fe6-1ae9-4736-a4db-d21fa0e47d88",
   "metadata": {},
   "source": [
    "Notice we have one class for the 2017 emulator (which is the one CCL was using up to version 2). That's the MiraTitan II (hence the name MTII). Another class is available for the 2022 emulator (MTIV). For each of them there are emulators for the total matter power spectrum 'tot' (i.e. including neutrinos) or for CDM+baryons 'cb'. So you can choose amongst all these options:"
   ]
  },
  {
   "cell_type": "code",
   "execution_count": null,
   "id": "223a6778-30a8-4c69-b081-92346c68a768",
   "metadata": {},
   "outputs": [],
   "source": [
    "#cemu = ccl.CosmicemuMTIIPk(\"tot\")\n",
    "#cemu = ccl.CosmicemuMTIIPk(\"cb\")\n",
    "#cemu = ccl.CosmicemuMTIVPk(\"tot\")\n",
    "#cemu = ccl.CosmicemuMTIVPk(\"cb\")"
   ]
  },
  {
   "cell_type": "markdown",
   "id": "538124fc-439e-4de1-b3e2-616a2afea341",
   "metadata": {},
   "source": [
    "Then we proceed as usual for obtaining the matter power spectrum."
   ]
  },
  {
   "cell_type": "code",
   "execution_count": null,
   "id": "d3ea0381-cf71-4938-8a56-747fb9ecfb81",
   "metadata": {},
   "outputs": [],
   "source": [
    "# Plot linear and nonlinear power spectra\n",
    "pk_lin_cemu = ccl.linear_matter_power(cosmo, k_cemu, a)\n",
    "pk_nl_cemu = ccl.nonlin_matter_power(cosmo, k_cemu, a)"
   ]
  },
  {
   "cell_type": "code",
   "execution_count": null,
   "id": "4ccfbe7d-1ad2-415b-a60f-a413d8a21494",
   "metadata": {},
   "outputs": [],
   "source": [
    "plt.plot(k_cemu, pk_lin_cemu, 'b-', label=\"linear\")\n",
    "plt.plot(k_cemu, pk_nl_cemu, 'r-', label=\"non-linear\")\n",
    "\n",
    "plt.xscale('log')\n",
    "plt.yscale('log')\n",
    "plt.xticks(fontsize=18)\n",
    "plt.yticks(fontsize=18)\n",
    "plt.legend(loc='lower left',fontsize=10)\n",
    "plt.xlabel('$k\\quad[\\\\rm Mpc^{-1}]$', fontsize=22)\n",
    "plt.ylabel('$P(k)\\quad[{\\\\rm Mpc}]^3$', fontsize=22)\n",
    "plt.title(\"MiraTitan IV\", fontsize=22)\n",
    "\n",
    "plt.tight_layout()\n",
    "plt.show()"
   ]
  },
  {
   "cell_type": "code",
   "execution_count": null,
   "id": "b484a7b8-bad1-4720-8c28-0d6e105297cb",
   "metadata": {},
   "outputs": [],
   "source": []
  }
 ],
 "metadata": {
  "kernelspec": {
   "display_name": "cclv3",
   "language": "python",
   "name": "cclv3"
  },
  "language_info": {
   "codemirror_mode": {
    "name": "ipython",
    "version": 3
   },
   "file_extension": ".py",
   "mimetype": "text/x-python",
   "name": "python",
   "nbconvert_exporter": "python",
   "pygments_lexer": "ipython3",
   "version": "3.10.12"
  }
 },
 "nbformat": 4,
 "nbformat_minor": 5
}
