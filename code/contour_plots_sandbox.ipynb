{
 "cells": [
  {
   "cell_type": "markdown",
   "id": "a7dbca6f",
   "metadata": {},
   "source": [
    "I was previously using a janky custom plotting script for this so let's move to using GetDist"
   ]
  },
  {
   "cell_type": "code",
   "execution_count": 1,
   "id": "9712bcad",
   "metadata": {},
   "outputs": [],
   "source": [
    "import numpy as np\n",
    "import matplotlib.pyplot as plt \n",
    "from getdist.gaussian_mixtures import GaussianND\n",
    "from getdist import plots"
   ]
  },
  {
   "cell_type": "code",
   "execution_count": 2,
   "id": "1bd70ce7",
   "metadata": {},
   "outputs": [],
   "source": [
    "# Set some basic parameters\n",
    "endfilename='status_check_April2024'"
   ]
  },
  {
   "cell_type": "code",
   "execution_count": 3,
   "id": "3bd81a08",
   "metadata": {},
   "outputs": [],
   "source": [
    "# Load the fisher matrices\n",
    "\n",
    "Fisher_Eg = np.loadtxt('/home/danielle/Research/EG_comparison/txtfiles/Fisher_Eg_priors_'+endfilename+'.txt')\n",
    "Fisher_jp = np.loadtxt('/home/danielle/Research/EG_comparison/txtfiles/Fisher_jp_priors_'+endfilename+'.txt')"
   ]
  },
  {
   "cell_type": "markdown",
   "id": "9e9a4b7d",
   "metadata": {},
   "source": [
    "We want to look at a bunch of different cases in terms of what is fixed vs varied:"
   ]
  },
  {
   "cell_type": "code",
   "execution_count": 4,
   "id": "2f9debef",
   "metadata": {},
   "outputs": [],
   "source": [
    "# Fix everything except mu0 and Sigma0:\n",
    "invfish_Eg_fix = np.linalg.inv(Fisher_Eg[0:2,0:2])\n",
    "invfish_jp_fix = np.linalg.inv(Fisher_jp[0:2,0:2])\n",
    "\n",
    "# Vary sigma8\n",
    "invfish_jp_sig8 = np.linalg.inv(Fisher_jp[0:6,0:6])\n",
    "\n",
    "# Vary the bias\n",
    "invfish_jp_b = np.linalg.inv(np.delete(np.delete(Fisher_jp, [5,7], axis=0), [5,7], axis=1))\n",
    "\n",
    "# Vary the bias and sigma8\n",
    "invfish_jp_b_sig8 = np.linalg.inv(Fisher_jp[0:7,0:7])\n",
    "\n",
    "# Vary everything\n",
    "inv_fish_jp_varyall = np.linalg.inv(Fisher_jp)\n",
    "                                "
   ]
  },
  {
   "cell_type": "code",
   "execution_count": 23,
   "id": "5c7e8108",
   "metadata": {},
   "outputs": [
    {
     "name": "stdout",
     "output_type": "stream",
     "text": [
      "[[0.00440437 0.00106356]\n",
      " [0.00106356 0.00077593]]\n"
     ]
    }
   ],
   "source": [
    "print(invfish_jp_fix)"
   ]
  },
  {
   "cell_type": "code",
   "execution_count": 12,
   "id": "6ed20b0b",
   "metadata": {},
   "outputs": [],
   "source": [
    "# values and labels for plotting:\n",
    "\n",
    "fid_vals_list = [0.0,0.0]\n",
    "# And the list of names\n",
    "names = [\"mu0\", \"sig0\"]\n",
    "# and labels\n",
    "labels = [ r\"\\mu_0\", r\"\\Sigma_0\"]"
   ]
  },
  {
   "cell_type": "code",
   "execution_count": 13,
   "id": "59c2360c",
   "metadata": {},
   "outputs": [],
   "source": [
    "Eg_fix = GaussianND(fid_vals_list, invfish_Eg_fix, labels = labels, names = names)\n",
    "jp_fix = GaussianND(fid_vals_list, invfish_jp_fix, labels = labels, names = names)"
   ]
  },
  {
   "cell_type": "code",
   "execution_count": 20,
   "id": "01c53f59",
   "metadata": {},
   "outputs": [],
   "source": [
    "settings = plots.GetDistPlotSettings()\n",
    "settings.fontsize=20\n",
    "settings.axes_fontsize = 20\n",
    "settings.axes_labelsize=20\n",
    "settings.line_styles=[('--','#FA8128'), ('-','#6495ED')]"
   ]
  },
  {
   "cell_type": "code",
   "execution_count": 21,
   "id": "f6f9925c",
   "metadata": {},
   "outputs": [
    {
     "data": {
      "text/plain": [
       "((-2291.794925633125, 2291.794925633125),\n",
       " (-8037.137306578377, 8037.137306578377))"
      ]
     },
     "execution_count": 21,
     "metadata": {},
     "output_type": "execute_result"
    },
    {
     "data": {
      "image/png": "[encoded data removed]",
      "text/plain": [
       "<Figure size 432x432 with 1 Axes>"
      ]
     },
     "metadata": {
      "needs_background": "light"
     },
     "output_type": "display_data"
    }
   ],
   "source": [
    "Fisher_plot = plots.get_subplot_plotter(width_inch=6, settings=settings)\n",
    "\n",
    "Fisher_plot.plot_2d([Eg_fix, jp_fix], 'sig0', 'mu0', lims=[-0.4,0.4,-0.4,0.4])"
   ]
  },
  {
   "cell_type": "code",
   "execution_count": null,
   "id": "d1f25641",
   "metadata": {},
   "outputs": [],
   "source": []
  }
 ],
 "metadata": {
  "kernelspec": {
   "display_name": "desc-tjp",
   "language": "python",
   "name": "desc-tjp"
  },
  "language_info": {
   "codemirror_mode": {
    "name": "ipython",
    "version": 3
   },
   "file_extension": ".py",
   "mimetype": "text/x-python",
   "name": "python",
   "nbconvert_exporter": "python",
   "pygments_lexer": "ipython3",
   "version": "3.8.10"
  }
 },
 "nbformat": 4,
 "nbformat_minor": 5
}
