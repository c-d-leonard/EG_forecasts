{
 "cells": [
  {
   "cell_type": "code",
   "execution_count": 1,
   "metadata": {},
   "outputs": [],
   "source": [
    "import numpy as np\n",
    "import specs as sp"
   ]
  },
  {
   "cell_type": "code",
   "execution_count": null,
   "metadata": {},
   "outputs": [],
   "source": [
    "params_fid_var = {'mu_0': 0., 'sigma_0':0.} # Intrinsic alignment params? Photo-z params? tau?\n",
    "params_fid_fix = {'sigma8':0.83,'b':2.2,'OmB':0.05, 'h':0.68, 'n_s':0.96, 'OmM': 0.3}\n",
    "params_Eg_insens = {'b':2.2, 'sigma8:': 0.83} # Parameters to which E_G is by-design totally insensitive.\n",
    "\n",
    "params_fid = params_fid_var.copy()   \n",
    "params_fid.update(params_fid_fix)"
   ]
  },
  {
   "cell_type": "code",
   "execution_count": null,
   "metadata": {},
   "outputs": [],
   "source": [
    "vol_LRGs = sp.volume(params_fid, 'LSST', 'DESI')"
   ]
  },
  {
   "cell_type": "code",
   "execution_count": null,
   "metadata": {},
   "outputs": [],
   "source": [
    "print(vol_LRGs)"
   ]
  },
  {
   "cell_type": "code",
   "execution_count": null,
   "metadata": {},
   "outputs": [],
   "source": [
    "areaLRGS = 10500\n",
    "densityLRGS = 350\n",
    "nLRGS = areaLRGS * densityLRGS\n",
    "nbar_LRGs = nLRGS / vol_LRGs"
   ]
  },
  {
   "cell_type": "code",
   "execution_count": null,
   "metadata": {},
   "outputs": [],
   "source": [
    "print nbar_LRGs"
   ]
  },
  {
   "cell_type": "code",
   "execution_count": null,
   "metadata": {},
   "outputs": [],
   "source": [
    "vol_150pc_LRGs = sp.volume(params_fid, 'LSST', 'DESI150pc_4MOST_LRGs')"
   ]
  },
  {
   "cell_type": "code",
   "execution_count": null,
   "metadata": {},
   "outputs": [],
   "source": [
    "areaLRGs150pc = 12000\n",
    "nLRG150pc = areaLRGs150pc * densityLRGS\n",
    "nbar_LRGs150pc = nLRG150pc / vol_150pc_LRGs"
   ]
  },
  {
   "cell_type": "code",
   "execution_count": null,
   "metadata": {},
   "outputs": [],
   "source": [
    "print vol_150pc_LRGs"
   ]
  },
  {
   "cell_type": "code",
   "execution_count": null,
   "metadata": {},
   "outputs": [],
   "source": [
    "vol_200pc_LRGs = sp.volume(params_fid, 'LSST', 'DESI200pc_4MOST_LRGs')"
   ]
  },
  {
   "cell_type": "code",
   "execution_count": null,
   "metadata": {},
   "outputs": [],
   "source": [
    "areaLRGs200pc = 13500\n",
    "nLRG200pc = areaLRGs200pc * densityLRGS\n",
    "nbar_LRGs200pc = nLRG200pc / vol_200pc_LRGs\n",
    "print vol_200pc_LRGs"
   ]
  },
  {
   "cell_type": "code",
   "execution_count": null,
   "metadata": {},
   "outputs": [],
   "source": [
    "vol_ELGs = sp.volume(params_fid, 'LSST', 'DESI_4MOST_ELGs')"
   ]
  },
  {
   "cell_type": "code",
   "execution_count": null,
   "metadata": {},
   "outputs": [],
   "source": [
    "print vol_ELGs"
   ]
  },
  {
   "cell_type": "code",
   "execution_count": null,
   "metadata": {},
   "outputs": [],
   "source": [
    "vol_150pc_ELGs = sp.volume(params_fid, 'LSST', 'DESI150pc_4MOST_ELGs')"
   ]
  },
  {
   "cell_type": "code",
   "execution_count": null,
   "metadata": {},
   "outputs": [],
   "source": [
    "print vol_150pc_ELGs"
   ]
  },
  {
   "cell_type": "code",
   "execution_count": null,
   "metadata": {},
   "outputs": [],
   "source": [
    "vol_200pc_ELGs = sp.volume(params_fid, 'LSST', 'DESI200pc_4MOST_ELGs')"
   ]
  },
  {
   "cell_type": "code",
   "execution_count": null,
   "metadata": {},
   "outputs": [],
   "source": [
    "print vol_200pc_ELGs"
   ]
  },
  {
   "cell_type": "code",
   "execution_count": null,
   "metadata": {},
   "outputs": [],
   "source": [
    "vol_LSSTarea_ELGs = sp.volume(params_fid, 'LSST', 'DESI_4MOST_18000deg2_ELGs')"
   ]
  },
  {
   "cell_type": "code",
   "execution_count": null,
   "metadata": {},
   "outputs": [],
   "source": [
    "print vol_LSSTarea_ELGs"
   ]
  },
  {
   "cell_type": "code",
   "execution_count": null,
   "metadata": {},
   "outputs": [],
   "source": [
    "vol_LSSTarea_LRGs = sp.volume(params_fid, 'LSST', 'DESI_4MOST_18000deg2_LRGs')"
   ]
  },
  {
   "cell_type": "code",
   "execution_count": null,
   "metadata": {},
   "outputs": [],
   "source": [
    "print vol_LSSTarea_LRGs"
   ]
  },
  {
   "cell_type": "code",
   "execution_count": null,
   "metadata": {},
   "outputs": [],
   "source": []
  }
 ],
 "metadata": {
  "kernelspec": {
   "display_name": "Python 2",
   "language": "python",
   "name": "python2"
  },
  "language_info": {
   "codemirror_mode": {
    "name": "ipython",
    "version": 3
   },
   "file_extension": ".py",
   "mimetype": "text/x-python",
   "name": "python",
   "nbconvert_exporter": "python",
   "pygments_lexer": "ipython3",
   "version": "3.5.2"
  }
 },
 "nbformat": 4,
 "nbformat_minor": 2
}
