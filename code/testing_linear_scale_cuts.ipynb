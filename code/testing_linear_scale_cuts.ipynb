{
 "cells": [
  {
   "cell_type": "code",
   "execution_count": 1,
   "metadata": {},
   "outputs": [],
   "source": [
    "import numpy as np\n",
    "import fiducial as fid\n",
    "import matplotlib.pyplot as plt\n",
    "import utils as u\n",
    "import Eg_cov as egcov\n",
    "import joint_cov as jp"
   ]
  },
  {
   "cell_type": "markdown",
   "metadata": {},
   "source": [
    "Set up parameters etc"
   ]
  },
  {
   "cell_type": "code",
   "execution_count": 2,
   "metadata": {},
   "outputs": [],
   "source": [
    "lens = 'DESI'\n",
    "src = 'LSST'\n",
    "rp0 = 1.5\n",
    "Pimax=100.\n",
    "rp_bin_edges = np.logspace(np.log10(rp0), np.log10(50.), 11)\n",
    "endfilename='test_scales'\n",
    "rp_bin_c = u.rp_bins_mid(rp_bin_edges)\n",
    "params = {'sigma8':0.83,'b':2.2,'OmB':0.05, 'h':0.68, 'n_s':0.96, 'OmM': 0.3, 'mu_0': 0., 'sigma_0':0.}\n",
    "Nsamps=100000"
   ]
  },
  {
   "cell_type": "markdown",
   "metadata": {},
   "source": [
    "Get data covariance matrices for E_G and the joint probes case."
   ]
  },
  {
   "cell_type": "code",
   "execution_count": 3,
   "metadata": {},
   "outputs": [],
   "source": [
    "#Dcov_jp = jp.get_joint_covariance(params, lens, src, rp_bin_edges, rp_bin_c, rp0, endfilename)\n",
    "#np.savetxt('/home/danielle/Documents/CMU/Research/EG_comparison/txtfiles/Dcov_jp_'+endfilename+'.txt', Dcov_jp)\n",
    "Dcov_jp = np.loadtxt('/home/danielle/Documents/CMU/Research/EG_comparison/txtfiles/Dcov_jp_'+endfilename+'.txt')"
   ]
  },
  {
   "cell_type": "code",
   "execution_count": 4,
   "metadata": {},
   "outputs": [],
   "source": [
    "#Dcov_eg = egcov.get_egcov(params, rp_bin_edges, rp_bin_c, rp0, lens, src, Pimax, Nsamps, endfilename)\n",
    "#np.savetxt('/home/danielle/Documents/CMU/Research/EG_comparison/txtfiles/Dcov_eg_'+endfilename+'.txt', Dcov_eg)\n",
    "Dcov_eg = np.loadtxt('/home/danielle/Documents/CMU/Research/EG_comparison/txtfiles/Dcov_eg_'+endfilename+'.txt')"
   ]
  },
  {
   "cell_type": "markdown",
   "metadata": {},
   "source": [
    "Get the linear and nonlinear datavector for E_G"
   ]
  },
  {
   "cell_type": "code",
   "execution_count": 5,
   "metadata": {},
   "outputs": [
    {
     "name": "stderr",
     "output_type": "stream",
     "text": [
      "pyfftlog.py:442: RuntimeWarning: divide by zero encountered in log\n",
      "  zp = np.log(gamma(xp + y))\n",
      "pyfftlog.py:443: RuntimeWarning: divide by zero encountered in log\n",
      "  zm = np.log(gamma(xm + y))\n",
      "pyfftlog.py:136: RuntimeWarning: divide by zero encountered in log\n",
      "  zp = np.log(gamma(xp + 1j*y))\n"
     ]
    }
   ],
   "source": [
    "# Get linear datavector\n",
    "data_lin_EG = fid.E_G(params, rp_bin_edges, rp0, lens, src, Pimax, endfilename, nonlin=False)\n",
    "# Get nonlinear datavector\n",
    "data_nl_EG = fid.E_G(params, rp_bin_edges, rp0, lens, src, Pimax, endfilename, nonlin=True)"
   ]
  },
  {
   "cell_type": "code",
   "execution_count": 6,
   "metadata": {},
   "outputs": [
    {
     "data": {
      "image/png": "[encoded data removed]",
      "text/plain": [
       "<matplotlib.figure.Figure at 0x7fd9eb72d810>"
      ]
     },
     "metadata": {},
     "output_type": "display_data"
    }
   ],
   "source": [
    "plt.figure()\n",
    "plt.semilogx(rp_bin_c, data_lin_EG, 'mo', label='Linear')\n",
    "plt.semilogx(rp_bin_c, data_nl_EG, 'go', label='Nonlinear')\n",
    "plt.legend()\n",
    "plt.show()"
   ]
  },
  {
   "cell_type": "markdown",
   "metadata": {},
   "source": [
    "Now get the linear and nonlinear data vectors for the joint probes case"
   ]
  },
  {
   "cell_type": "code",
   "execution_count": 7,
   "metadata": {},
   "outputs": [],
   "source": [
    "data_lin_jp = fid.jp_datavector(params, rp_bin_edges, rp0, lens,src, Pimax, endfilename, nonlin = False)\n",
    "data_nl_jp = fid.jp_datavector(params, rp_bin_edges, rp0, lens,src, Pimax, endfilename, nonlin = True)"
   ]
  },
  {
   "cell_type": "code",
   "execution_count": 8,
   "metadata": {},
   "outputs": [
    {
     "data": {
      "image/png": "[encoded data removed]",
      "text/plain": [
       "<matplotlib.figure.Figure at 0x7fd9eb531590>"
      ]
     },
     "metadata": {},
     "output_type": "display_data"
    },
    {
     "data": {
      "image/png": "[encoded data removed]",
      "text/plain": [
       "<matplotlib.figure.Figure at 0x7fd9eb39a490>"
      ]
     },
     "metadata": {},
     "output_type": "display_data"
    },
    {
     "name": "stdout",
     "output_type": "stream",
     "text": [
      "beta, lin= 0.3735464303321457\n",
      "beta, nl= 0.3735464303321457\n"
     ]
    }
   ],
   "source": [
    "plt.figure()\n",
    "plt.semilogx(rp_bin_c, data_lin_jp[0:len(rp_bin_c)], 'mo', label='Linear, $\\Upsilon_{gm}$')\n",
    "plt.semilogx(rp_bin_c, data_nl_jp[0:len(rp_bin_c)], 'go', label='Nonlinear, $\\Upsilon_{gm}$')\n",
    "plt.legend()\n",
    "plt.show()\n",
    "\n",
    "plt.figure()\n",
    "plt.semilogx(rp_bin_c, data_lin_jp[len(rp_bin_c):2*len(rp_bin_c)], 'mo', label='Linear, $\\Upsilon_{gg}$')\n",
    "plt.semilogx(rp_bin_c, data_nl_jp[len(rp_bin_c):2*len(rp_bin_c)], 'go', label='Nonlinear, $\\Upsilon_{gg}$')\n",
    "plt.legend()\n",
    "plt.show()\n",
    "\n",
    "# Check that beta is the same in the linear or nonlinear case\n",
    "print \"beta, lin=\", data_lin_jp[-1]\n",
    "print \"beta, nl=\", data_nl_jp[-1]"
   ]
  },
  {
   "cell_type": "markdown",
   "metadata": {},
   "source": [
    "Get scale cuts for Eg"
   ]
  },
  {
   "cell_type": "code",
   "execution_count": 9,
   "metadata": {},
   "outputs": [],
   "source": [
    "cut_inds_Eg = u.linear_scale_cuts(data_nl_EG, data_lin_EG, Dcov_eg, rp_bin_c)"
   ]
  },
  {
   "cell_type": "code",
   "execution_count": 10,
   "metadata": {},
   "outputs": [
    {
     "name": "stdout",
     "output_type": "stream",
     "text": [
      "cut indices= []\n"
     ]
    }
   ],
   "source": [
    "print \"cut indices=\", cut_inds_Eg"
   ]
  },
  {
   "cell_type": "markdown",
   "metadata": {},
   "source": [
    "For $E_G$, we are nearly totally insensitive to nonlinearities, so we do not find we need to cut any scales."
   ]
  },
  {
   "cell_type": "code",
   "execution_count": 11,
   "metadata": {},
   "outputs": [],
   "source": [
    "cut_inds_jp = u.linear_scale_cuts(data_nl_jp, data_lin_jp, Dcov_jp, rp_bin_c)"
   ]
  },
  {
   "cell_type": "code",
   "execution_count": 12,
   "metadata": {},
   "outputs": [
    {
     "name": "stdout",
     "output_type": "stream",
     "text": [
      "cut indices= [0, 1, 2, 3, 4, 5, 7, 8, 10, 11, 12, 13, 14, 15, 17, 18]\n"
     ]
    }
   ],
   "source": [
    "print \"cut indices=\", cut_inds_jp"
   ]
  },
  {
   "cell_type": "markdown",
   "metadata": {},
   "source": [
    "For joint probes, we disect this to find the elements to cut for individual probes."
   ]
  },
  {
   "cell_type": "code",
   "execution_count": 13,
   "metadata": {},
   "outputs": [
    {
     "name": "stdout",
     "output_type": "stream",
     "text": [
      "[(14.654211101598804, 0.4429661589274988), (41.959090612203354, 0.21639526038084556)]\n",
      "[(14.654211101598804, 3.248531908532915), (41.959090612203354, 1.5870867075894657)]\n"
     ]
    }
   ],
   "source": [
    "cut_indices_gm = [ind for ind in cut_inds_jp if ind<len(rp_bin_c)]\n",
    "ind_keep_gm = [ind for ind in range(0,len(rp_bin_c)) if ind not in cut_indices_gm]\n",
    "rp_keep_gm = rp_bin_c[ind_keep_gm]\n",
    "Ups_keep_gm = data_nl_jp[ind_keep_gm]\n",
    "print zip(rp_keep_gm, Ups_keep_gm)\n",
    "\n",
    "cut_indices_gg = [(ind-10) for ind in cut_inds_jp if ind>=len(rp_bin_c)]\n",
    "ind_keep_gg = [ind for ind in range(0,len(rp_bin_c)) if ind not in cut_indices_gg]\n",
    "ind_keep_gg_dvec = [ind+10 for ind in range(0,len(rp_bin_c)) if ind not in cut_indices_gg]\n",
    "rp_keep_gg = rp_bin_c[ind_keep_gg]\n",
    "Ups_keep_gg = data_nl_jp[ind_keep_gg_dvec]\n",
    "print zip(rp_keep_gg, Ups_keep_gg)"
   ]
  },
  {
   "cell_type": "markdown",
   "metadata": {},
   "source": [
    "Plot the data points this tells us to keep for joint probes (not many)"
   ]
  },
  {
   "cell_type": "code",
   "execution_count": 17,
   "metadata": {},
   "outputs": [
    {
     "data": {
      "image/png": "[encoded data removed]",
      "text/plain": [
       "<matplotlib.figure.Figure at 0x7fd9eb4267d0>"
      ]
     },
     "metadata": {},
     "output_type": "display_data"
    },
    {
     "data": {
      "image/png": "[encoded data removed]",
      "text/plain": [
       "<matplotlib.figure.Figure at 0x7fd9e98cb410>"
      ]
     },
     "metadata": {},
     "output_type": "display_data"
    }
   ],
   "source": [
    "plt.figure()\n",
    "plt.semilogx(rp_bin_c, data_nl_jp[0:len(rp_bin_c)], 'mo', label='Nonlinear, $\\Upsilon_{gm}$')\n",
    "plt.semilogx(rp_keep_gm, Ups_keep_gm, 'k^', label='Points to keep')\n",
    "plt.ylabel('$\\Upsilon_{gm}$')\n",
    "plt.xlabel('$r_p$, Mpc/h')\n",
    "plt.legend()\n",
    "plt.savefig('../plots/Upsilon_gm_scales.png')\n",
    "\n",
    "plt.figure()\n",
    "plt.semilogx(rp_bin_c, data_nl_jp[len(rp_bin_c):2*len(rp_bin_c)], 'mo', label='Nonlinear, $\\Upsilon_{gg}$')\n",
    "plt.semilogx(rp_keep_gg, Ups_keep_gg, 'k^', label='Points to keep')\n",
    "plt.ylabel('$\\Upsilon_{gg}$')\n",
    "plt.xlabel('$r_p$, Mpc/h')\n",
    "plt.legend()\n",
    "plt.savefig('../plots/Upsilon_gg_scales.png')"
   ]
  },
  {
   "cell_type": "code",
   "execution_count": null,
   "metadata": {},
   "outputs": [],
   "source": []
  }
 ],
 "metadata": {
  "kernelspec": {
   "display_name": "egproj",
   "language": "python",
   "name": "egproj"
  },
  "language_info": {
   "codemirror_mode": {
    "name": "ipython",
    "version": 3
   },
   "file_extension": ".py",
   "mimetype": "text/x-python",
   "name": "python",
   "nbconvert_exporter": "python",
   "pygments_lexer": "ipython3",
   "version": "3.10.12"
  }
 },
 "nbformat": 4,
 "nbformat_minor": 4
}
