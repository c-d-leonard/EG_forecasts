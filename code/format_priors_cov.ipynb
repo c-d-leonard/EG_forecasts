{
 "cells": [
  {
   "cell_type": "code",
   "execution_count": 1,
   "metadata": {},
   "outputs": [],
   "source": [
    "import numpy as np\n",
    "import fisher as f"
   ]
  },
  {
   "cell_type": "markdown",
   "metadata": {},
   "source": [
    "Take the covariance matrix from the Planck chains from all the parameters and get it for only the parameters we have priors on."
   ]
  },
  {
   "cell_type": "code",
   "execution_count": 2,
   "metadata": {},
   "outputs": [],
   "source": [
    "# Load a priors matrix and strip the parameters we don't care about:\n",
    "priors_cov_full = np.loadtxt('/home/danielle/Documents/CMU/Research/EG_comparison/Planck_Chains_UT_Dallas/Planck4.covmat_with_om_b')\n",
    "cut_params = [0,1,2,3,4,5,6,7,9,10,11,12,13,14,15,16,17,18,19,20,21,22,23,25,26,27,28,29,30,31,32,33,34,35,36,37,38,\n",
    "             39,40,41,42,43,44,45,46,47,48,49,50,51,52,53,54,55,56,57,58,59,60,61,62,63,64,65,66,67,68,69,70,71,\n",
    "             72]\n",
    "\n",
    "priors_cov = np.delete(np.delete(priors_cov_full, cut_params,axis=0), cut_params, axis=1)\n",
    "\n",
    "# Switch from H0 to h.\n",
    "for i in range(len(priors_cov[:,0])):\n",
    "    for j in range(len(priors_cov[:,0])):\n",
    "        if i==1:\n",
    "            priors_cov[i,j] = priors_cov[i,j]/100.\n",
    "        if j==1:\n",
    "            priors_cov[i,j] = priors_cov[i,j]/100.\n",
    "\n",
    "np.savetxt('/home/danielle/Documents/CMU/Research/EG_comparison/Planck_Chains_UT_Dallas/priors_cov_MG_smallmat.txt', priors_cov)"
   ]
  },
  {
   "cell_type": "code",
   "execution_count": null,
   "metadata": {},
   "outputs": [],
   "source": [
    "priors_file = '/home/danielle/Documents/CMU/Research/EG_comparison/txtfiles/priors_cov_LCDM_test.txt'\n",
    "keys_priors_file = '/home/danielle/Documents/CMU/Research/EG_comparison/txtfiles/keys_priors_LCDM_test.txt'"
   ]
  },
  {
   "cell_type": "code",
   "execution_count": null,
   "metadata": {},
   "outputs": [],
   "source": [
    "Fish_with_priors = f.add_priors(Fisher, keys_list, priors_file, keys_priors_file)"
   ]
  },
  {
   "cell_type": "code",
   "execution_count": null,
   "metadata": {},
   "outputs": [],
   "source": [
    "print \"Fish_with_priors=\", Fish_with_priors"
   ]
  },
  {
   "cell_type": "code",
   "execution_count": null,
   "metadata": {},
   "outputs": [],
   "source": []
  }
 ],
 "metadata": {
  "kernelspec": {
   "display_name": "Python 2",
   "language": "python",
   "name": "python2"
  },
  "language_info": {
   "codemirror_mode": {
    "name": "ipython",
    "version": 2
   },
   "file_extension": ".py",
   "mimetype": "text/x-python",
   "name": "python",
   "nbconvert_exporter": "python",
   "pygments_lexer": "ipython2",
   "version": "2.7.15"
  }
 },
 "nbformat": 4,
 "nbformat_minor": 2
}
