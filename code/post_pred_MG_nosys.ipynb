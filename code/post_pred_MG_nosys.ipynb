{
 "cells": [
  {
   "cell_type": "markdown",
   "metadata": {},
   "source": [
    "This notebook conducts a posterior predictive test for whether we can detect a non-GR theory of gravity using $E_G$."
   ]
  },
  {
   "cell_type": "code",
   "execution_count": 1,
   "metadata": {},
   "outputs": [],
   "source": [
    "import numpy as np\n",
    "import matplotlib.pyplot as plt\n",
    "import fiducial as fid\n",
    "import utils as u\n",
    "import scipy.stats \n",
    "from scipy.stats import chi2\n",
    "from scipy.stats import rv_histogram\n",
    "from scipy.stats import binned_statistic\n",
    "import specs as sp "
   ]
  },
  {
   "cell_type": "markdown",
   "metadata": {},
   "source": [
    "Define parameters etc."
   ]
  },
  {
   "cell_type": "code",
   "execution_count": 2,
   "metadata": {},
   "outputs": [
    {
     "name": "stdout",
     "output_type": "stream",
     "text": [
      "b1= 2.333\n",
      "b2= 1.021809523809524\n",
      "bs= -0.38085714285714284\n",
      "H0rc= 0.7071067811865475\n"
     ]
    }
   ],
   "source": [
    "# Parameters\n",
    "\n",
    "lens = 'DESI'\n",
    "src = 'LSST'\n",
    "Pimax=300.\n",
    "rp0 = 1.5\n",
    "\n",
    "# Number of E_G samples to draw:\n",
    "#Nsamp = 1000\n",
    "\n",
    "endfilename = 'post_pred_Jan15'\n",
    "\n",
    "# Use the same cosmological parameters as Shadab's simulations:\n",
    "h=0.69\n",
    "OmB = 0.022/h**2\n",
    "\n",
    "OmM = 0.292\n",
    "\n",
    "# Using now nonliner bias parameters as fit in Kitanis & White 2022. \n",
    "# They fit LTP parameters so we convert these to their Eulerian equivalents.\n",
    "b1_LPT = 1.333\n",
    "b2_LPT = 0.514\n",
    "bs_LPT = 0 # They fix this to 0.\n",
    "\n",
    "# Convert to Eulerian using the conversions in Chen, Vlah & White 2020 (these use the same convention as Kitanis & White 2022)\n",
    "b1 = 1.0 + b1_LPT\n",
    "b2 = b2_LPT + 8./21.*(b1_LPT)\n",
    "bs = bs_LPT - 2./7*(b1_LPT)\n",
    "\n",
    "#b1 = 2.03\n",
    "#b2 = 0.9*(b1-1.0)**2-0.5 # From Fast-PT example notebook which says \n",
    "#'(this is a numerical fit to simulation k2Pnl1_regdata, but a relationship of this form is motivated in the spherical collapse picture'\n",
    "#bs = -4.0/7.0*(b1-1.0) # The 'coevolution value' see Pandey et al. DES Y3 papers\n",
    "#Nsamps=100000\n",
    "\n",
    "print('b1=', b1)\n",
    "print('b2=', b2)\n",
    "print('bs=', bs)\n",
    "\n",
    "# A_s value is designed to match sigma8=0.82 in LCDM for other cosmological parameters. \n",
    "# We do this by manually finding the value of A_s that gives the right sigma8 using ccl_sigma8.\n",
    "\n",
    "# Define Gaussian uncertainty for prior distribution on OmegaM0\n",
    "\n",
    "# DES year 3 gives OmegaM0 = 0.339 + 0.032 - 0.031 for LCDM model. \n",
    "# Let's use roughly this error with our fiducial for the mean.\n",
    "OmMerr = 0.03\n",
    "\n",
    "# nDGP\n",
    "Omega_rc = 0.5\n",
    "h0rc = 1./np.sqrt(4*Omega_rc)\n",
    "print('H0rc=', h0rc)\n",
    "\n",
    "# f(R)\n",
    "fr0 = 10**(-4)\n",
    "\n",
    "params = {'mu_0': 0., 'sigma_0':0., 'OmB':OmB, 'h':h, 'n_s':0.965,'b':b1, 'OmM': OmM, 'b_2':b2, 'b_s': bs, 'fR0' : fr0, 'A_s':2.115 * 10**(-9), 'fR_n': 1, 'H0rc':h0rc} "
   ]
  },
  {
   "cell_type": "code",
   "execution_count": 3,
   "metadata": {},
   "outputs": [
    {
     "name": "stdout",
     "output_type": "stream",
     "text": [
      "zbar= 0.7226958808077818\n"
     ]
    }
   ],
   "source": [
    "# Compute the mean redshift over the lenses, we need this later:\n",
    "\n",
    "zvec, dNdz = sp.get_dNdzL(params, 'DESI')\n",
    "\n",
    "zbar = scipy.integrate.simps(zvec*dNdz, zvec)\n",
    "print('zbar=', zbar)"
   ]
  },
  {
   "cell_type": "markdown",
   "metadata": {},
   "source": [
    "Load data covariance and rp bins stuff"
   ]
  },
  {
   "cell_type": "code",
   "execution_count": 4,
   "metadata": {},
   "outputs": [
    {
     "name": "stdout",
     "output_type": "stream",
     "text": [
      "rp bin c= [ 1.39357881  1.83709466  2.42176242  3.19250463  4.20854074  5.54793718  7.31360558  9.64120984 12.70958983 16.75450244 22.08673575 29.11598823 38.38234769 50.59778848 66.70087562 87.92887875]\n",
      "rp bin edges= [  1.21375641   1.60004256   2.10926689   2.78055529   3.66548575   4.83205129   6.36988417   8.39714273  11.06958999  14.5925616   19.23674266  25.35896564  33.42962733  44.0688315   58.09403408  76.5828519  100.95586057]\n"
     ]
    }
   ],
   "source": [
    "# Covariance matrix:\n",
    "# Notice this is the bias-correction version.\n",
    "egcov = np.loadtxt('../txtfiles/cov_EG_nLbiascorrected.dat')\n",
    "\n",
    "inv_egcov = np.linalg.inv(egcov)\n",
    "\n",
    "# Scale cuts. 0 means cut the bin, 1 means keep it.\n",
    "rp_c_scalecuts, scalecuts = np.loadtxt('../txtfiles/scalecuts_nLbias_CORRECTIONFACTOR_KitanidisWhite2022.dat', unpack=True)\n",
    "\n",
    "rp_bin_c_raw = np.loadtxt('../data_for_Danielle/test-HOD-PB00-z0.75-w1pz_cat-zRSD-model-5-gxm-sel-crossparticles-wtag-w1-rfact10-bin1-wp-logrp-pi-NJN-100.txt.upsilon')[:,0]\n",
    "rp_bin_edges_raw = u.rp_bin_edges_log(rp_bin_c_raw)\n",
    "\n",
    "#Cut below rp0 making sure rp0 is in the lowest bin. Go one bin lower because this \n",
    "ind = next(j[0] for j in enumerate(rp_bin_edges_raw) if j[1]>rp0)-1\n",
    "rp_bin_c = rp_bin_c_raw[ind:]\n",
    "rp_bin_edges = rp_bin_edges_raw[ind:]\n",
    "\n",
    "print('rp bin c=', rp_bin_c)\n",
    "print('rp bin edges=', rp_bin_edges)"
   ]
  },
  {
   "cell_type": "code",
   "execution_count": 10,
   "metadata": {},
   "outputs": [
    {
     "name": "stdout",
     "output_type": "stream",
     "text": [
      "OmMsamp= [0.29695848]\n",
      "params OmM= 0.292\n",
      "getting Upgg\n",
      "getting Upgm\n",
      "maxchi= 6669.353003473356\n",
      "(1, 16)\n",
      "OmMsamp= [0.29578374]\n",
      "params OmM= 0.292\n",
      "getting Upgg\n",
      "getting Upgm\n",
      "maxchi= 6669.353003473356\n",
      "(1, 16)\n",
      "OmMsamp= [0.29194163]\n",
      "params OmM= 0.292\n",
      "getting Upgg\n",
      "getting Upgm\n",
      "maxchi= 6669.353003473356\n",
      "(1, 16)\n",
      "OmMsamp= [0.2648494]\n",
      "params OmM= 0.292\n",
      "getting Upgg\n",
      "getting Upgm\n",
      "maxchi= 6669.353003473356\n",
      "(1, 16)\n",
      "OmMsamp= [0.25626725]\n",
      "params OmM= 0.292\n",
      "getting Upgg\n",
      "getting Upgm\n",
      "maxchi= 6669.353003473356\n",
      "(1, 16)\n"
     ]
    }
   ],
   "source": [
    "# Begin loop over draws from data realisations.\n",
    "# To get this working, first try just a small number of data realisations for quick debugging.\n",
    "Nsamp=5\n",
    "\n",
    "# Set up arrays and other stuff needed to store things over multiple data realisations\n",
    "\n",
    "# For the fit to constant model of the E_G data realisation:\n",
    "vals = np.linspace(0.01,0.99,10000) # values at which we grid-sampl E_G constant model\n",
    "loglike_vals = np.zeros((Nsamp, len(vals)))\n",
    "like_vals = np.zeros((Nsamp, len(vals)))\n",
    "like_vals_norm = np.zeros((Nsamp, len(vals)))\n",
    "max_post_val = np.zeros(Nsamp) # best fit E_G constant model at a given realisation\n",
    "chisq = np.zeros(Nsamp) # chisq of the best fit constant model with data realisation\n",
    "cdf_samps = np.zeros(Nsamp)\n",
    "const_bad_fit = np.zeros(Nsamp)\n",
    "\n",
    "# For getting the posterior on OmegaM0 in the GR model:\n",
    "OmMvals = np.linspace(0.1,0.5,10000) # values at which grid sample OmegaM0\n",
    "logP_OmM = -0.5*(OmMvals - params['OmM'])**2/(OmMerr**2) # define DES Y3 LCDM prior\n",
    "EGvals = fid.EG_theory(OmMvals, zbar) # Get corrsponding EG values\n",
    "loglike_vals_OmM = np.zeros((Nsamp, len(OmMvals)))\n",
    "like_vals_OmM = np.zeros((Nsamp, len(OmMvals)))\n",
    "like_vals_norm_OmM = np.zeros((Nsamp, len(OmMvals)))\n",
    "\n",
    "outside_95 = np.zeros(Nsamp)\n",
    "\n",
    "\n",
    "for i in range(0, Nsamp):\n",
    "\n",
    "    #### GENERATE DATA REALISATION ####\n",
    "\n",
    "    # Draw from OmegaM0 prior.\n",
    "    OmMsamp = np.random.normal(params['OmM'], OmMerr, 1)\n",
    "    print('OmMsamp=', OmMsamp)\n",
    "    print('params OmM=', params['OmM'])\n",
    "\n",
    "    # Using this value of OmegaM0, compute corresponding E_G \n",
    "    # (we assume this has been fully corrected for nonlinear\n",
    "    # bias as we cannot compute the nonlinear bias correction\n",
    "    # outside GR.\n",
    "\n",
    "    # Compute E_G - alter final argument different gravity theory.\n",
    "    EG_fid = fid.E_G(params, rp_bin_edges, rp0, lens, src, \n",
    "                 Pimax, endfilename, nonlin=False, MG=True, MGtheory='nDGP')\n",
    "\n",
    "    # Using this as a mean with Eg_cov, draw a data realisation.\n",
    "    EG_data = np.random.multivariate_normal(EG_fid, egcov, 1)\n",
    "\n",
    "    print(EG_data.shape)\n",
    "\n",
    "    #### FIT CONSTANT TO DATA REALISATION DRAW ####\n",
    "\n",
    "    # Sample the likelihood. It's only a one dimensional parameter space so we can just grid-sample.\n",
    "\n",
    "    for j in range(0,len(vals)):\n",
    "        loglike_vals[i,j] = u.logL(vals[j], EG_data[0,:], inv_egcov)\n",
    "        like_vals[i,j] = np.exp(loglike_vals[i,j])\n",
    "        like_vals_norm[i,:] = like_vals[i,:]/ scipy.integrate.simps(like_vals[i,:], vals)\n",
    "\n",
    "    # Get the maximum of the poterior point of the fit to the constant, \n",
    "    max_post_ind = np.argmax(like_vals_norm[i,:])\n",
    "    max_post_val[i] = vals[max_post_ind]\n",
    "\n",
    "    # Get the chi^2\n",
    "    chisq[i] = 0.5*np.dot((max_post_val[i] - EG_data[0,:]), \n",
    "                          np.dot(inv_egcov, (max_post_val[i] - EG_data[0,:])))\n",
    "    \n",
    "    # We want to look at a chi squared distribution with the correct number \n",
    "    # of degrees of freedom\n",
    "\n",
    "    # Define the number of degrees of freedom:\n",
    "    len_cut_dvec = len(EG_data[0,:])\n",
    "    model_par = 1 # 1 parameter for a constant model\n",
    "    DOF = len_cut_dvec - model_par\n",
    "\n",
    "    # What we want is the CDF value at the chi square.\n",
    "    # What this tells us is the probability that, given our constant model \n",
    "    # is correct, we would have got the chi square we got or a lower chi squared (fixing our measured data vector and cov).\n",
    "    # Eg if CDF = 0.95, this means that if our model is correct, 95% of the time the chi squared would have been lower.\n",
    "    # If we care about the model and the data agreeing within 1 sigma, we look for the case where CDF=0.68 or less\n",
    "    # i.e. the case where if our model is correct, 68% of the time we would have drawn a lower chi-squared. \n",
    "    cdf_samps[i] = chi2.cdf(chisq[i], DOF)\n",
    "\n",
    "    # Set to 1 where the cdf>=0.95 (corresponds to p value 0.05)\n",
    "    if cdf_samps[i]>=0.95:\n",
    "        const_bad_fit[i] = 1\n",
    "        break # No point in continuing in this case, we already know we reject GR\n",
    "\n",
    "    #### GET POSTERIOR IN OMEGA_M_0_FIT IN GR MODEL ####\n",
    "\n",
    "    for j in range(0,len(OmMvals)):\n",
    "        loglike_vals_OmM[i,j] = u.logL(EGvals[j], EG_data[0,:], inv_egcov)\n",
    "        #like_vals_OmM[i,j] = np.exp(loglike_vals_OmM[i,j])\n",
    "        like_vals_OmM[i,j] = np.exp(loglike_vals_OmM[i,j] + logP_OmM[j]) # This version adds a prior.\n",
    "    like_vals_norm_OmM[i,:] = like_vals_OmM[i,:]/ scipy.integrate.simps(like_vals_OmM[i,:], OmMvals)\n",
    "\n",
    "    # Define a pdf on OmM from posterior values computed above.\n",
    "    bin_means, bin_edges, bin_number = binned_statistic(OmMvals, like_vals_norm_OmM[i], statistic ='mean',bins=200)\n",
    "    hist_OmM = bin_means, bin_edges\n",
    "\n",
    "    # can set density=True because normalised values.\n",
    "    OmMfit_dist = rv_histogram(hist_OmM, density = True)\n",
    "\n",
    "    #### GET REPLICATED E_G DATA UNDER GR MODEL ####\n",
    "\n",
    "    # Sample values from this distribution\n",
    "    N_OmMfitsamp = 10000\n",
    "    OmMfitsamps = OmMfit_dist.rvs(size=N_OmMfitsamp)\n",
    "\n",
    "    # Get corresponding GR theory E_G values:\n",
    "    EG_rep_data = fid.EG_theory(OmMfitsamps, zbar)\n",
    "\n",
    "    # Get distribution of GR value for E_G.\n",
    "\n",
    "    EG_rep_hist = np.histogram(EG_rep_data, bins = 50, density=True)\n",
    "    EG_rep_dist = rv_histogram(EG_rep_hist, density=True)\n",
    "\n",
    "    # Get the 5% and 95% confidence points of the distribution \n",
    "\n",
    "    ninetyfive_intervals_EGrep = EG_rep_dist.interval(0.95)\n",
    "\n",
    "    # Does the constant best fit value to the original data fall\n",
    "    # outside the 95%?\n",
    "\n",
    "    if max_post_val[i] <= ninetyfive_intervals_EGrep[0] or max_post_val[i]>= ninetyfive_intervals_EGrep[1]:\n",
    "        outside_95[i] = 1    "
   ]
  },
  {
   "cell_type": "code",
   "execution_count": 11,
   "metadata": {},
   "outputs": [
    {
     "name": "stdout",
     "output_type": "stream",
     "text": [
      "we reject GR  0.0  times out of  5  so fractional reject rate is  0.0\n"
     ]
    }
   ],
   "source": [
    "num_bad_fit = np.sum(const_bad_fit)\n",
    "num_outside_95 = np.sum(outside_95)\n",
    "\n",
    "total_reject = num_bad_fit + num_outside_95\n",
    "\n",
    "frac_reject = total_reject / Nsamp\n",
    "\n",
    "print('we reject GR ', total_reject, ' times out of ', Nsamp,' so fractional reject rate is ', frac_reject)"
   ]
  },
  {
   "cell_type": "markdown",
   "metadata": {},
   "source": [
    "BELOW HERE IS THE SAME FUNCTIONALITY BUT NOT IN A LOOP - IGNORE"
   ]
  },
  {
   "cell_type": "code",
   "execution_count": 6,
   "metadata": {},
   "outputs": [],
   "source": [
    "# Fit constant model to the data (get code from previous forecast notebook.)\n",
    "\n",
    "# Sample the likelihood. It's only a one dimensional parameter space so we can just grid-sample.\n",
    "\n",
    "vals = np.linspace(0.01,0.99,10000)\n",
    "\n",
    "# I don't need multiple 'Nsamps' right now but I probably will\n",
    "# once I put this in a loop so let's keep this infrastructure.\n",
    "loglike_vals = np.zeros((Nsamp, len(vals)))\n",
    "like_vals = np.zeros((Nsamp, len(vals)))\n",
    "like_vals_norm = np.zeros((Nsamp, len(vals)))\n",
    "\n",
    "for i in range(0,Nsamp):\n",
    "    for j in range(0,len(vals)):\n",
    "        loglike_vals[i,j] = u.logL(vals[j], EG_data[i,:], inv_egcov)\n",
    "        like_vals[i,j] = np.exp(loglike_vals[i,j])\n",
    "    like_vals_norm[i,:] = like_vals[i,:]/ scipy.integrate.simps(like_vals[i,:], vals)"
   ]
  },
  {
   "cell_type": "code",
   "execution_count": 7,
   "metadata": {},
   "outputs": [
    {
     "data": {
      "image/png": "[encoded data removed]",
      "text/plain": [
       "<Figure size 640x480 with 1 Axes>"
      ]
     },
     "metadata": {},
     "output_type": "display_data"
    }
   ],
   "source": [
    "plt.figure()\n",
    "plt.plot(vals, like_vals_norm[0])\n",
    "plt.show()"
   ]
  },
  {
   "cell_type": "markdown",
   "metadata": {},
   "source": [
    "Might need to be in loop:\n",
    "\n",
    "Do a chi^2 check of whether this is a good fit."
   ]
  },
  {
   "cell_type": "code",
   "execution_count": 8,
   "metadata": {},
   "outputs": [
    {
     "name": "stdout",
     "output_type": "stream",
     "text": [
      "num_bad_fit= 0.0\n",
      "which ones?= (array([], dtype=int64),)\n"
     ]
    }
   ],
   "source": [
    "# chi^2 check if this is a good fit.\n",
    "\n",
    "# If it's a bad fit, record this as a 'reject GR' case (within loop).\n",
    "\n",
    "# Get the maximum of the poterior point of the fit to the constant, \n",
    "# We could also use the mean. \n",
    "# I think it will be pretty similar for the posteriors we are seeing \n",
    "# because they appear very Gaussian.\n",
    "\n",
    "max_post_val = np.zeros(Nsamp)\n",
    "for i in range(0,Nsamp):\n",
    "    max_post_ind = np.argmax(like_vals_norm[i,:])\n",
    "    max_post_val[i] = vals[max_post_ind]\n",
    "    #print('i=', i,'max val=', max_post_val[i])\n",
    "\n",
    "# Get the chi^2\n",
    "chisq = np.zeros(Nsamp)\n",
    "for i in range(0, Nsamp):\n",
    "    chisq[i] = 0.5*np.dot((max_post_val[i] - EG_data[i,:]), \n",
    "                          np.dot(inv_egcov, (max_post_val[i] - EG_data[i,:])))\n",
    "    \n",
    "# We want to look at a chi squared distribution with the correct number \n",
    "# of degrees of freedom\n",
    "\n",
    "# Define the number of degrees of freedom:\n",
    "len_cut_dvec = len(EG_data[0,:])\n",
    "model_par = 1 # 1 parameter for a constant model\n",
    "DOF = len_cut_dvec - model_par\n",
    "\n",
    "# What we want is the CDF value at the chi square.\n",
    "# What this tells us is the probability that, given our constant model \n",
    "# is correct, we would have got the chi square we got or a lower chi squared (fixing our measured data vector and cov).\n",
    "# Eg if CDF = 0.95, this means that if our model is correct, 95% of the time the chi squared would have been lower.\n",
    "# If we care about the model and the data agreeing within 1 sigma, we look for the case where CDF=0.68 or less\n",
    "# i.e. the case where if our model is correct, 68% of the time we would have drawn a lower chi-squared. \n",
    "\n",
    "cdf_samps = np.zeros(Nsamp)\n",
    "for i in range(0,Nsamp):\n",
    "    cdf_samps[i] = chi2.cdf(chisq[i], DOF)\n",
    "    #print('i=', i,', cdf=', cdf_samps[i])\n",
    "\n",
    "# Check which of these, if any are  >=0.95\n",
    "# Will need to alter this a bit when making the loop.\n",
    "const_bad_fit = np.zeros(Nsamp) # Set to 1 where the cdf>=0.95 (corresponds to p value 0.05)\n",
    "for i in range(0,Nsamp):\n",
    "    if cdf_samps[i]>=0.95:\n",
    "        const_bad_fit[i] = 1\n",
    "\n",
    "num_bad_fit = np.sum(const_bad_fit)\n",
    "\n",
    "print('num_bad_fit=', num_bad_fit)\n",
    "print('which ones?=',np.where(const_bad_fit==1))\n",
    "inds_bad_fit = np.where(const_bad_fit==1)\n",
    "\n",
    "\n"
   ]
  },
  {
   "cell_type": "markdown",
   "metadata": {},
   "source": [
    "In loop:\n",
    "\n",
    "If constant is good fit: Get get posterior for OmegaM0 model."
   ]
  },
  {
   "cell_type": "code",
   "execution_count": 9,
   "metadata": {},
   "outputs": [],
   "source": [
    "# Sample OmegaM0 and get posterior given GR prediction.\n",
    "# Result: posterior for OmegaM0 under GR model and sampled data.\n",
    "# We draw from a flat prior to normalised likelihood = posterior.\n",
    "\n",
    "# again it is 1-D parameter space so we can grid-sample\n",
    "\n",
    "# This is a uniform prior right now. Maybe we use the same prior as above, from DES Y3 - does this change anything?\n",
    "OmMvals = np.linspace(0.1,0.5,10000)\n",
    "\n",
    "logP_OmM = -0.5*(OmMvals - params['OmM'])**2/(OmMerr**2)\n",
    "\n",
    "EGvals = fid.EG_theory(OmMvals, zbar)\n",
    "\n",
    "# Nsamp is still 1 for us here but will change if we put this in a loop.\n",
    "\n",
    "loglike_vals_OmM = np.zeros((Nsamp, len(OmMvals)))\n",
    "like_vals_OmM = np.zeros((Nsamp, len(OmMvals)))\n",
    "like_vals_norm_OmM = np.zeros((Nsamp, len(OmMvals)))\n",
    "interp_OmM_post = [0]*Nsamp # list to hold interpolating functions\n",
    "\n",
    "for i in range(0,Nsamp):\n",
    "    for j in range(0,len(OmMvals)):\n",
    "        loglike_vals_OmM[i,j] = u.logL(EGvals[j], EG_data[i,:], inv_egcov)\n",
    "        #like_vals_OmM[i,j] = np.exp(loglike_vals_OmM[i,j])\n",
    "        like_vals_OmM[i,j] = np.exp(loglike_vals_OmM[i,j] + logP_OmM[j]) # This version adds a prior.\n",
    "    like_vals_norm_OmM[i,:] = like_vals_OmM[i,:]/ scipy.integrate.simps(like_vals_OmM[i,:], OmMvals)\n",
    "    interp_OmM_post[i] = scipy.interpolate.interp1d(OmMvals, like_vals_norm_OmM[i,:])\n"
   ]
  },
  {
   "cell_type": "markdown",
   "metadata": {},
   "source": [
    "In loop:\n",
    "\n",
    "Draw from the OmegaM0 distribution and compute corresponding $E_G$ (constant) values under the GR model. Get a bunch of GR values of E_G."
   ]
  },
  {
   "cell_type": "code",
   "execution_count": 10,
   "metadata": {},
   "outputs": [
    {
     "data": {
      "image/png": "[encoded data removed]",
      "text/plain": [
       "<Figure size 640x480 with 1 Axes>"
      ]
     },
     "metadata": {},
     "output_type": "display_data"
    }
   ],
   "source": [
    "# Draw from OmegaM0 posterior and compute \n",
    "# corresponding constant E_G using GR definition.\n",
    "\n",
    "# Define a pdf on OmM from posterior values computed above.\n",
    "\n",
    "bin_means, bin_edges, bin_number = binned_statistic(OmMvals, like_vals_norm_OmM[0], statistic ='mean',bins=200)\n",
    "\n",
    "hist_OmM = bin_means, bin_edges\n",
    "\n",
    "# can se density=True because normalised values.\n",
    "OmMfit_dist = rv_histogram(hist_OmM, density = True)\n",
    "\n",
    "# Sample values\n",
    "N_OmMfitsamp = 10000\n",
    "OmMfitsamps = OmMfit_dist.rvs(size=N_OmMfitsamp)\n",
    "\n",
    "# Check this looks right:\n",
    "bin_width = (bin_edges[1] - bin_edges[0])\n",
    "bin_centers = bin_edges[1:] - bin_width/2\n",
    "\n",
    "plt.figure()\n",
    "plt.plot(OmMvals, like_vals_norm_OmM[0], label='orig')\n",
    "plt.plot(bin_centers, bin_means, label='binned')\n",
    "plt.plot(OmMvals, OmMfit_dist.pdf(OmMvals), label='rv histogram')\n",
    "plt.hist(OmMfitsamps, bins = 30, label='samples', density=True)\n",
    "plt.legend()\n",
    "plt.show()\n",
    "\n",
    "# Get corresponding GR theory E_G values:\n",
    "EG_rep_data = fid.EG_theory(OmMfitsamps, zbar)\n",
    "    "
   ]
  },
  {
   "cell_type": "code",
   "execution_count": 11,
   "metadata": {},
   "outputs": [
    {
     "data": {
      "image/png": "[encoded data removed]",
      "text/plain": [
       "<Figure size 640x480 with 1 Axes>"
      ]
     },
     "metadata": {},
     "output_type": "display_data"
    },
    {
     "name": "stdout",
     "output_type": "stream",
     "text": [
      "total outside 95%= 0\n"
     ]
    }
   ],
   "source": [
    "# Get distribution of GR value for E_G.\n",
    "\n",
    "EG_rep_hist = np.histogram(EG_rep_data, bins = 50, density=True)\n",
    "\n",
    "EG_rep_dist = rv_histogram(EG_rep_hist, density=True)\n",
    "\n",
    "# Get the 5% and 95% confidence points of the distribution \n",
    "\n",
    "ninetyfive_intervals_EGrep = EG_rep_dist.interval(0.95)\n",
    "\n",
    "plt.figure()\n",
    "plt.hist(EG_rep_data, bins = 40, label='EG rep', density=True)\n",
    "plt.vlines(ninetyfive_intervals_EGrep[0], ymin=0, ymax=30, color='k', linestyle=':')\n",
    "plt.vlines(ninetyfive_intervals_EGrep[1], ymin=0, ymax=30, color='k', linestyle=':')\n",
    "plt.vlines(max_post_val[0], ymin=0, ymax=30, color='k', linewidth=2)\n",
    "\n",
    "plt.legend()\n",
    "plt.show()\n",
    "\n",
    "# Does the constant best fit value to the original data fall\n",
    "# outside the 95%?\n",
    "\n",
    "# Need to update this if we cut the ones where it's a bad fit.\n",
    "inds_low = np.where(max_post_val <= ninetyfive_intervals_EGrep[0])\n",
    "inds_high = np.where(max_post_val>= ninetyfive_intervals_EGrep[1])\n",
    "\n",
    "total_outside_95 = len(inds_low[0])+ len(inds_high[0])\n",
    "\n",
    "print('total outside 95%=', total_outside_95)\n",
    "\n",
    "# If yes, consider GR rejected for this case. "
   ]
  },
  {
   "cell_type": "code",
   "execution_count": 20,
   "metadata": {},
   "outputs": [
    {
     "name": "stdout",
     "output_type": "stream",
     "text": [
      "best fit for sample in current nDGP universe: [0.37175418]\n",
      "GR theory with same OmM= [0.38023084]\n"
     ]
    }
   ],
   "source": [
    "print('best fit for sample in current nDGP universe:', max_post_val)\n",
    "print('GR theory with same OmM=', fid.EG_theory(OmMsamp, zbar))"
   ]
  },
  {
   "cell_type": "code",
   "execution_count": null,
   "metadata": {},
   "outputs": [],
   "source": []
  }
 ],
 "metadata": {
  "kernelspec": {
   "display_name": "egproj",
   "language": "python",
   "name": "python3"
  },
  "language_info": {
   "codemirror_mode": {
    "name": "ipython",
    "version": 3
   },
   "file_extension": ".py",
   "mimetype": "text/x-python",
   "name": "python",
   "nbconvert_exporter": "python",
   "pygments_lexer": "ipython3",
   "version": "3.10.12"
  }
 },
 "nbformat": 4,
 "nbformat_minor": 2
}
