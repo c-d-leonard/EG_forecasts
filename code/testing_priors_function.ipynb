{
 "cells": [
  {
   "cell_type": "code",
   "execution_count": 1,
   "metadata": {},
   "outputs": [],
   "source": [
    "import numpy as np\n",
    "import fisher as f"
   ]
  },
  {
   "cell_type": "markdown",
   "metadata": {},
   "source": [
    "Test function which adds a priors covariance matrix to our Fisher matrix."
   ]
  },
  {
   "cell_type": "code",
   "execution_count": 2,
   "metadata": {},
   "outputs": [
    {
     "name": "stdout",
     "output_type": "stream",
     "text": [
      "['OmB', 'b', 'n_s', 'sigma8', 'h', 'sigma_0', 'OmM', 'mu_0']\n"
     ]
    }
   ],
   "source": [
    "# Set up test data.\n",
    "\n",
    "folder= '/home/danielle/Documents/CMU/Research/EG_comparison/txtfiles/'\n",
    "\n",
    "Fisher = np.loadtxt(folder+ '/Fisher_Eg_N=1e5_varall.txt')\n",
    "\n",
    "f_keys = folder+'/keys_N=1e5_varall.txt'\n",
    "\n",
    "with open(f_keys) as fi:\n",
    "    keys_list = fi.readlines()\n",
    "    \n",
    "keys_list = [x.strip() for x in keys_list]\n",
    "print keys_list"
   ]
  },
  {
   "cell_type": "code",
   "execution_count": 3,
   "metadata": {},
   "outputs": [],
   "source": [
    "# Load a priors matrix from the LCDM case and strip the parameters we don't care about:\n",
    "priors_cov_full = np.loadtxt('/home/danielle/Documents/CMU/Research/EG_comparison/LCDM_priors/cov_with_om_b.mat')\n",
    "cut_params = [0,1,2,3,4,6,7,8,9,10,11,12,13,14,15,16,17,18,19,20,22,23,24,25,26,27,28,29,30,31,32,33,34,35,36,37,38,\n",
    "             39,40,41,42,43,44,45,46,47,48,49,50,51,52,53,54,55,56,57,58,59,60,61,62,63,64,65,66,67,68,69,70,71,\n",
    "             72,73,74]\n",
    "\n",
    "priors_cov = np.delete(np.delete(priors_cov_full, cut_params,axis=0), cut_params, axis=1)\n",
    "\n",
    "# Switch from H0 to h.\n",
    "for i in range(len(priors_cov[:,0])):\n",
    "    for j in range(len(priors_cov[:,0])):\n",
    "        if i==1:\n",
    "            priors_cov[i,j] = priors_cov[i,j]/100.\n",
    "        if j==1:\n",
    "            priors_cov[i,j] = priors_cov[i,j]/100.\n",
    "\n",
    "np.savetxt(folder+'/priors_cov_LCDM_test.txt', priors_cov)"
   ]
  },
  {
   "cell_type": "code",
   "execution_count": 4,
   "metadata": {},
   "outputs": [],
   "source": [
    "priors_file = '/home/danielle/Documents/CMU/Research/EG_comparison/txtfiles/priors_cov_LCDM_test.txt'\n",
    "keys_priors_file = '/home/danielle/Documents/CMU/Research/EG_comparison/txtfiles/keys_priors_LCDM_test.txt'"
   ]
  },
  {
   "cell_type": "code",
   "execution_count": 5,
   "metadata": {},
   "outputs": [],
   "source": [
    "Fish_with_priors = f.add_priors(Fisher, keys_list, priors_file, keys_priors_file)"
   ]
  },
  {
   "cell_type": "code",
   "execution_count": 6,
   "metadata": {},
   "outputs": [
    {
     "name": "stdout",
     "output_type": "stream",
     "text": [
      "Fish_with_priors= [[ 8.21459704e+06 -2.58621101e-15  5.35542095e+04 -1.37082256e-15  7.81884145e+05 -6.71962789e-01 -3.92390985e+00  1.91584103e-01]\n",
      " [-2.58621101e-15  2.32780056e-26  3.74464168e-16  7.03375050e-27 -7.35117907e-15  4.33743076e-12  2.53286557e-11 -1.23668485e-12]\n",
      " [ 5.35542095e+04  3.74464168e-16  9.32406503e+04  1.87792909e-16 -4.54150754e+04  9.33412988e-02  5.45066011e-01 -2.66128718e-02]\n",
      " [-1.37082256e-15  7.03375050e-27  1.87792909e-16  2.16625891e-26 -2.16158529e-15  1.31542631e-12  7.68147704e-12 -3.75046634e-13]\n",
      " [ 7.81884145e+05 -7.35117907e-15 -4.54150754e+04 -2.16158529e-15  1.32942026e+05 -1.56641993e+00 -9.14717171e+00  4.46615313e-01]\n",
      " [-6.71962789e-01  4.33743076e-12  9.33412988e-02  1.31542631e-12 -1.56641993e+00  9.33640267e+02  5.45202673e+03 -2.66197844e+02]\n",
      " [-3.92390985e+00  2.53286557e-11  5.45066011e-01  7.68147704e-12 -9.14717171e+00  5.45202673e+03  3.18373109e+04 -1.55447212e+03]\n",
      " [ 1.91584103e-01 -1.23668485e-12 -2.66128718e-02 -3.75046634e-13  4.46615313e-01 -2.66197844e+02 -1.55447212e+03  7.58978537e+01]]\n"
     ]
    }
   ],
   "source": [
    "print \"Fish_with_priors=\", Fish_with_priors"
   ]
  },
  {
   "cell_type": "code",
   "execution_count": null,
   "metadata": {},
   "outputs": [],
   "source": []
  }
 ],
 "metadata": {
  "kernelspec": {
   "display_name": "Python 2",
   "language": "python",
   "name": "python2"
  },
  "language_info": {
   "codemirror_mode": {
    "name": "ipython",
    "version": 2
   },
   "file_extension": ".py",
   "mimetype": "text/x-python",
   "name": "python",
   "nbconvert_exporter": "python",
   "pygments_lexer": "ipython2",
   "version": "2.7.15"
  }
 },
 "nbformat": 4,
 "nbformat_minor": 2
}
