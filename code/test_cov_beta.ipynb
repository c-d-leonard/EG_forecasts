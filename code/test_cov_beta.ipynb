{
 "cells": [
  {
   "cell_type": "code",
   "execution_count": 1,
   "id": "ff971627-aca2-4c50-8ce6-43991c9378c5",
   "metadata": {},
   "outputs": [],
   "source": [
    "import numpy as np\n",
    "import matplotlib.pyplot as plt\n",
    "import joint_cov as jp"
   ]
  },
  {
   "cell_type": "code",
   "execution_count": 3,
   "id": "3be84e09-c6dd-4644-80d5-145a3bb25cf4",
   "metadata": {},
   "outputs": [
    {
     "name": "stdout",
     "output_type": "stream",
     "text": [
      "Getting inverse data covariance for beta variance calculation.\n",
      "Getting derivatives.\n",
      "Doing k integration.\n",
      "Doing mu integration.\n",
      "vol= 3824739564.9434977\n",
      "beta_fid= 0.39774222840221274\n",
      "frac_err_beta= 0.009612458505517866\n",
      "beta_err= 0.0038232806664084797\n",
      "beta_var= 1.4617475054132868e-05\n"
     ]
    }
   ],
   "source": [
    "h=0.69\n",
    "OmB = 0.022/h**2\n",
    "params = {'mu_0': 0., 'sigma_0':0., 'OmB':OmB, 'h':h, 'n_s':0.965, 'sigma8':0.82,'b':2.03, 'OmM': 0.292}\n",
    "\n",
    "var_beta = jp.cov_beta_beta(params, 'LSST', 'DESI')"
   ]
  },
  {
   "cell_type": "code",
   "execution_count": 6,
   "id": "6e2cf327-de6e-443c-ae7f-ad444a439410",
   "metadata": {},
   "outputs": [],
   "source": [
    "np.savetxt('../txtfiles/betavar_from_python.txt', [var_beta])"
   ]
  },
  {
   "cell_type": "code",
   "execution_count": null,
   "id": "625dbc40-9e77-4fda-9afd-6403e5e90005",
   "metadata": {},
   "outputs": [],
   "source": []
  }
 ],
 "metadata": {
  "kernelspec": {
   "display_name": "egproj",
   "language": "python",
   "name": "egproj"
  },
  "language_info": {
   "codemirror_mode": {
    "name": "ipython",
    "version": 3
   },
   "file_extension": ".py",
   "mimetype": "text/x-python",
   "name": "python",
   "nbconvert_exporter": "python",
   "pygments_lexer": "ipython3",
   "version": "3.10.12"
  }
 },
 "nbformat": 4,
 "nbformat_minor": 5
}
