{
 "cells": [
  {
   "cell_type": "code",
   "execution_count": 1,
   "metadata": {},
   "outputs": [],
   "source": [
    "import numpy as np\n",
    "import matplotlib.pyplot as plt\n",
    "import scipy.integrate\n",
    "import specs as sp"
   ]
  },
  {
   "cell_type": "code",
   "execution_count": null,
   "metadata": {},
   "outputs": [],
   "source": [
    "# Lenses\n",
    "\n",
    "dNdz_file = '../txtfiles/DESI_LRGs_dNdz_2024.dat'\n",
    "\n",
    "z, dNdz = np.loadtxt(dNdz_file, unpack=True)"
   ]
  },
  {
   "cell_type": "code",
   "execution_count": null,
   "metadata": {},
   "outputs": [],
   "source": [
    "print(z)"
   ]
  },
  {
   "cell_type": "code",
   "execution_count": null,
   "metadata": {},
   "outputs": [],
   "source": [
    "bins = np.linspace(0,1.5, len(z)+1)"
   ]
  },
  {
   "cell_type": "code",
   "execution_count": null,
   "metadata": {},
   "outputs": [],
   "source": [
    "bins"
   ]
  },
  {
   "cell_type": "code",
   "execution_count": null,
   "metadata": {},
   "outputs": [],
   "source": [
    "plt.figure()\n",
    "plt.plot(z,dNdz, '^',label='DESI LRGs (lenses)')\n",
    "plt.xlabel('z', fontsize=14)\n",
    "plt.xticks(fontsize=12)\n",
    "plt.yticks([])\n",
    "plt.ylabel('$\\\\frac{dN}{dz}$', fontsize=16)\n",
    "plt.legend()\n",
    "plt.show()"
   ]
  },
  {
   "cell_type": "code",
   "execution_count": null,
   "metadata": {},
   "outputs": [],
   "source": [
    "plt.figure()\n",
    "plt.bar(x=z,height=dNdz, width = 0.05,color='grey',label='DESI LRGs (lenses)')\n",
    "plt.xlabel('z', fontsize=14)\n",
    "plt.xticks(fontsize=12)\n",
    "plt.yticks([])\n",
    "plt.ylabel('$\\\\frac{dN}{dz}$', fontsize=16)\n",
    "plt.legend()\n",
    "plt.savefig('../plots/dNdz_DESI_LRGS.pdf')\n",
    "plt.show()"
   ]
  },
  {
   "cell_type": "code",
   "execution_count": null,
   "metadata": {},
   "outputs": [],
   "source": [
    "dNdz"
   ]
  },
  {
   "cell_type": "code",
   "execution_count": null,
   "metadata": {},
   "outputs": [],
   "source": [
    "norm = scipy.integrate.simps(dNdz,z)"
   ]
  },
  {
   "cell_type": "code",
   "execution_count": null,
   "metadata": {},
   "outputs": [],
   "source": [
    "dNdz_norm = dNdz/norm"
   ]
  },
  {
   "cell_type": "code",
   "execution_count": null,
   "metadata": {},
   "outputs": [],
   "source": [
    "mean_z_lens = scipy.integrate.simps(z*dNdz_norm,z)"
   ]
  },
  {
   "cell_type": "code",
   "execution_count": null,
   "metadata": {},
   "outputs": [],
   "source": [
    "print(mean_z_lens)"
   ]
  },
  {
   "cell_type": "code",
   "execution_count": 2,
   "metadata": {},
   "outputs": [],
   "source": [
    "zs, dNdzs = sp.get_dNdzS('LSST')"
   ]
  },
  {
   "cell_type": "code",
   "execution_count": 6,
   "metadata": {},
   "outputs": [
    {
     "data": {
      "text/plain": [
       "0.04950495049504951"
      ]
     },
     "execution_count": 6,
     "metadata": {},
     "output_type": "execute_result"
    }
   ],
   "source": [
    "5/101."
   ]
  },
  {
   "cell_type": "code",
   "execution_count": 13,
   "metadata": {},
   "outputs": [
    {
     "data": {
      "image/png": "[encoded data removed]",
      "text/plain": [
       "<Figure size 640x480 with 1 Axes>"
      ]
     },
     "metadata": {},
     "output_type": "display_data"
    }
   ],
   "source": [
    "plt.figure()\n",
    "plt.bar(x=zs, height=dNdzs, width=(0.05),color='grey', label='LSST Year 1 sources')\n",
    "plt.xlim(0,4.2)\n",
    "plt.xlabel('z', fontsize=14)\n",
    "plt.xticks(fontsize=12)\n",
    "plt.yticks([])\n",
    "plt.ylabel('$\\\\frac{dN}{dz}$', fontsize=16)\n",
    "plt.legend()\n",
    "plt.savefig('../plots/dNdz_LSST_Y1_sources.pdf')\n",
    "plt.show()"
   ]
  },
  {
   "cell_type": "code",
   "execution_count": null,
   "metadata": {},
   "outputs": [],
   "source": []
  }
 ],
 "metadata": {
  "kernelspec": {
   "display_name": "egproj",
   "language": "python",
   "name": "egproj"
  },
  "language_info": {
   "codemirror_mode": {
    "name": "ipython",
    "version": 3
   },
   "file_extension": ".py",
   "mimetype": "text/x-python",
   "name": "python",
   "nbconvert_exporter": "python",
   "pygments_lexer": "ipython3",
   "version": "3.10.12"
  }
 },
 "nbformat": 4,
 "nbformat_minor": 4
}
