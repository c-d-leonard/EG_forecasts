{
 "cells": [
  {
   "cell_type": "code",
   "execution_count": 1,
   "id": "882a5237-960e-4698-b5e6-22401f2e9e30",
   "metadata": {},
   "outputs": [],
   "source": [
    "import numpy as np\n",
    "import matplotlib.pyplot as plt\n",
    "import pyccl as ccl\n",
    "import pyccl.nl_pt as pt"
   ]
  },
  {
   "cell_type": "code",
   "execution_count": 2,
   "id": "4a0c63f2-f140-48d1-9f8c-b1c98d1dad77",
   "metadata": {},
   "outputs": [],
   "source": [
    "# Try using the Mira-Titan emulator\n",
    "\n",
    "kmin, kmax, nk = 1e-4, 1e1, 128\n",
    "k_cemu = np.logspace(np.log10(kmin), np.log10(kmax), nk) # Wavenumber [Mpc]^-1\n",
    "a = 1. # Scale factor a z=0"
   ]
  },
  {
   "cell_type": "code",
   "execution_count": 3,
   "id": "0752b97d-74fe-4665-95ce-4cab5289c216",
   "metadata": {},
   "outputs": [],
   "source": [
    "cosmo = ccl.Cosmology(Omega_c=0.27, Omega_b=0.05, h=0.67, sigma8=0.8, n_s=0.96, \n",
    "                      Neff=3.04, transfer_function='boltzmann_camb')"
   ]
  },
  {
   "cell_type": "code",
   "execution_count": 4,
   "id": "d051d3a1-aaf1-4352-bbc0-7b637c9dd0ca",
   "metadata": {},
   "outputs": [],
   "source": [
    "# Plot linear and nonlinear power spectra\n",
    "pk_lin_cemu = ccl.linear_matter_power(cosmo, k_cemu, a)"
   ]
  },
  {
   "cell_type": "code",
   "execution_count": 5,
   "id": "70cf78ad-e033-400d-b86d-da47c57ff7b5",
   "metadata": {},
   "outputs": [
    {
     "ename": "AttributeError",
     "evalue": "No module named CosmicemuMTIVPk.",
     "output_type": "error",
     "traceback": [
      "\u001b[0;31m---------------------------------------------------------------------------\u001b[0m",
      "\u001b[0;31mAttributeError\u001b[0m                            Traceback (most recent call last)",
      "Cell \u001b[0;32mIn[5], line 1\u001b[0m\n\u001b[0;32m----> 1\u001b[0m cemu \u001b[38;5;241m=\u001b[39m \u001b[43mccl\u001b[49m\u001b[38;5;241;43m.\u001b[39;49m\u001b[43mCosmicemuMTIVPk\u001b[49m(\u001b[38;5;124m\"\u001b[39m\u001b[38;5;124mtot\u001b[39m\u001b[38;5;124m\"\u001b[39m)\n\u001b[1;32m      2\u001b[0m pk_nl_cemu \u001b[38;5;241m=\u001b[39m ccl\u001b[38;5;241m.\u001b[39mnonlin_matter_power(cosmo, k_cemu, a)\n",
      "File \u001b[0;32m~/Software/egproj/lib/python3.10/site-packages/pyccl/__init__.py:62\u001b[0m, in \u001b[0;36m__getattr__\u001b[0;34m(name)\u001b[0m\n\u001b[1;32m     60\u001b[0m     name \u001b[38;5;241m=\u001b[39m rename[name]\n\u001b[1;32m     61\u001b[0m     \u001b[38;5;28;01mreturn\u001b[39;00m \u001b[38;5;28meval\u001b[39m(name)\n\u001b[0;32m---> 62\u001b[0m \u001b[38;5;28;01mraise\u001b[39;00m \u001b[38;5;167;01mAttributeError\u001b[39;00m(\u001b[38;5;124mf\u001b[39m\u001b[38;5;124m\"\u001b[39m\u001b[38;5;124mNo module named \u001b[39m\u001b[38;5;132;01m{\u001b[39;00mname\u001b[38;5;132;01m}\u001b[39;00m\u001b[38;5;124m.\u001b[39m\u001b[38;5;124m\"\u001b[39m)\n",
      "\u001b[0;31mAttributeError\u001b[0m: No module named CosmicemuMTIVPk."
     ]
    }
   ],
   "source": [
    "\n",
    "cemu = ccl.CosmicemuMTIVPk(\"tot\")\n",
    "pk_nl_cemu = ccl.nonlin_matter_power(cosmo, k_cemu, a)"
   ]
  },
  {
   "cell_type": "code",
   "execution_count": 6,
   "id": "465ef634-ffe9-450d-8eb1-d9ebe8f1b719",
   "metadata": {},
   "outputs": [
    {
     "ename": "NameError",
     "evalue": "name 'pk_nl_cemu' is not defined",
     "output_type": "error",
     "traceback": [
      "\u001b[0;31m---------------------------------------------------------------------------\u001b[0m",
      "\u001b[0;31mNameError\u001b[0m                                 Traceback (most recent call last)",
      "Cell \u001b[0;32mIn[6], line 2\u001b[0m\n\u001b[1;32m      1\u001b[0m plt\u001b[38;5;241m.\u001b[39mplot(k_cemu, pk_lin_cemu, \u001b[38;5;124m'\u001b[39m\u001b[38;5;124mb-\u001b[39m\u001b[38;5;124m'\u001b[39m, label\u001b[38;5;241m=\u001b[39m\u001b[38;5;124m\"\u001b[39m\u001b[38;5;124mlinear\u001b[39m\u001b[38;5;124m\"\u001b[39m)\n\u001b[0;32m----> 2\u001b[0m plt\u001b[38;5;241m.\u001b[39mplot(k_cemu, \u001b[43mpk_nl_cemu\u001b[49m, \u001b[38;5;124m'\u001b[39m\u001b[38;5;124mr-\u001b[39m\u001b[38;5;124m'\u001b[39m, label\u001b[38;5;241m=\u001b[39m\u001b[38;5;124m\"\u001b[39m\u001b[38;5;124mnon-linear\u001b[39m\u001b[38;5;124m\"\u001b[39m)\n\u001b[1;32m      4\u001b[0m plt\u001b[38;5;241m.\u001b[39mxscale(\u001b[38;5;124m'\u001b[39m\u001b[38;5;124mlog\u001b[39m\u001b[38;5;124m'\u001b[39m)\n\u001b[1;32m      5\u001b[0m plt\u001b[38;5;241m.\u001b[39myscale(\u001b[38;5;124m'\u001b[39m\u001b[38;5;124mlog\u001b[39m\u001b[38;5;124m'\u001b[39m)\n",
      "\u001b[0;31mNameError\u001b[0m: name 'pk_nl_cemu' is not defined"
     ]
    },
    {
     "data": {
      "image/png": "[encoded data removed]",
      "text/plain": [
       "<Figure size 640x480 with 1 Axes>"
      ]
     },
     "metadata": {},
     "output_type": "display_data"
    }
   ],
   "source": [
    "plt.plot(k_cemu, pk_lin_cemu, 'b-', label=\"linear\")\n",
    "plt.plot(k_cemu, pk_nl_cemu, 'r-', label=\"non-linear\")\n",
    "\n",
    "plt.xscale('log')\n",
    "plt.yscale('log')\n",
    "plt.xticks(fontsize=18)\n",
    "plt.yticks(fontsize=18)\n",
    "plt.legend(loc='lower left',fontsize=10)\n",
    "plt.xlabel('$k\\quad[\\\\rm Mpc^{-1}]$', fontsize=22)\n",
    "plt.ylabel('$P(k)\\quad[{\\\\rm Mpc}]^3$', fontsize=22)\n",
    "plt.title(\"MiraTitan IV\", fontsize=22)\n",
    "\n",
    "plt.tight_layout()\n",
    "plt.show()"
   ]
  },
  {
   "cell_type": "code",
   "execution_count": null,
   "id": "52da6e93-a0d2-4a00-a36a-e40d803a68c0",
   "metadata": {},
   "outputs": [],
   "source": [
    "plt.plot(k_cemu, pk_nl_cemu/pk_lin_cemu, 'b-', label=\"linear\")\n",
    "plt.xscale('log')\n",
    "plt.xticks(fontsize=18)\n",
    "plt.yticks(fontsize=18)\n",
    "plt.legend(loc='lower left',fontsize=10)\n",
    "plt.xlabel('$k\\quad[\\\\rm Mpc^{-1}]$', fontsize=22)\n",
    "plt.ylabel('Ratio $P(k)\\quad[{\\\\rm Mpc}]^3$', fontsize=22)\n",
    "plt.title(\"MiraTitan IV\", fontsize=22)\n",
    "plt.xlim(10**(-4),10**0)\n",
    "plt.ylim(0.9,1.1)\n",
    "\n",
    "plt.tight_layout()\n",
    "plt.show()"
   ]
  },
  {
   "cell_type": "markdown",
   "id": "6a0be1db-55bf-4b7e-869e-ad8ddb88b19e",
   "metadata": {},
   "source": [
    "Try using the higher-order perturbation theory case"
   ]
  },
  {
   "cell_type": "code",
   "execution_count": null,
   "id": "6521f43e-4f61-4bc8-8ac7-3106b50a6263",
   "metadata": {},
   "outputs": [],
   "source": [
    "pk_lin_cemu = ccl.linear_matter_power(cosmo, k_cemu, a)\n",
    "\n",
    "# Matter\n",
    "\n",
    "ptt_m = pt.PTMatterTracer()"
   ]
  },
  {
   "cell_type": "code",
   "execution_count": null,
   "id": "21487790-9556-49d2-880d-33c6f6fcc47a",
   "metadata": {},
   "outputs": [],
   "source": [
    "# The `with_NC` and `with_IA` flags will tell FastPT to initialize the right things.\n",
    "# `log10k_min/max and nk_per_decade will define the sampling in k you should use.\n",
    "ptc = pt.EulerianPTCalculator(with_NC=True, with_IA=True,\n",
    "                      log10k_min=-4, log10k_max=2, nk_per_decade=20)"
   ]
  },
  {
   "cell_type": "code",
   "execution_count": null,
   "id": "59fcb866-cf09-4d06-b027-08d41ba4d3c9",
   "metadata": {},
   "outputs": [],
   "source": [
    "ptc.update_ingredients(cosmo)"
   ]
  },
  {
   "cell_type": "code",
   "execution_count": null,
   "id": "2565d1d4-7df7-4cd7-ac07-0f80c449613b",
   "metadata": {},
   "outputs": [],
   "source": [
    "# Matter x matter\n",
    "pk_mm = ptc.get_biased_pk2d(ptt_m, tracer2=ptt_m)"
   ]
  },
  {
   "cell_type": "code",
   "execution_count": null,
   "id": "c28dfc80-217b-4128-875e-0c53199fce3f",
   "metadata": {},
   "outputs": [],
   "source": [
    "ps = {}\n",
    "ps['mm'] = pk_mm(k_cemu, 1., cosmo)"
   ]
  },
  {
   "cell_type": "code",
   "execution_count": null,
   "id": "3a931809-78f7-4e4f-ada0-71efb7259047",
   "metadata": {},
   "outputs": [],
   "source": [
    "plt.plot(k_cemu, pk_lin_cemu, 'b-', label=\"linear\")\n",
    "plt.plot(k_cemu, ps['mm'], 'r-', label=\"non-linear\")\n",
    "\n",
    "plt.xscale('log')\n",
    "plt.yscale('log')\n",
    "plt.xticks(fontsize=18)\n",
    "plt.yticks(fontsize=18)\n",
    "plt.legend(loc='lower left',fontsize=10)\n",
    "plt.xlabel('$k\\quad[\\\\rm Mpc^{-1}]$', fontsize=22)\n",
    "plt.ylabel('$P(k)\\quad[{\\\\rm Mpc}]^3$', fontsize=22)\n",
    "plt.title(\"Fast-Pt\", fontsize=22)\n",
    "\n",
    "plt.tight_layout()\n",
    "plt.show()"
   ]
  },
  {
   "cell_type": "code",
   "execution_count": null,
   "id": "207bda93-b2e9-44fa-8c0f-c2e02049686b",
   "metadata": {},
   "outputs": [],
   "source": [
    "plt.plot(k_cemu, ps['mm']/pk_lin_cemu, 'b-', label=\"linear\")\n",
    "plt.xscale('log')\n",
    "plt.xticks(fontsize=18)\n",
    "plt.yticks(fontsize=18)\n",
    "plt.legend(loc='lower left',fontsize=10)\n",
    "plt.xlabel('$k\\quad[\\\\rm Mpc^{-1}]$', fontsize=22)\n",
    "plt.ylabel('Ratio $P(k)\\quad[{\\\\rm Mpc}]^3$', fontsize=22)\n",
    "plt.title(\"Fast-PT\", fontsize=22)\n",
    "plt.xlim(10**(-4),10**0)\n",
    "plt.ylim(0.9,1.1)\n",
    "\n",
    "plt.tight_layout()\n",
    "plt.show()"
   ]
  },
  {
   "cell_type": "markdown",
   "id": "5dfd2a72-4137-48c3-8ddb-448d6369235d",
   "metadata": {},
   "source": [
    "What about halo model?"
   ]
  },
  {
   "cell_type": "code",
   "execution_count": null,
   "id": "a0bcde34-26cd-453d-b519-90fe9dda41ad",
   "metadata": {},
   "outputs": [],
   "source": [
    "# We will use a mass definition with Delta = 200 times the matter density\n",
    "hmd_200m = ccl.halos.MassDef200m\n",
    "\n",
    "# The Duffy 2008 concentration-mass relation\n",
    "cM = ccl.halos.ConcentrationDuffy08(mass_def=hmd_200m)\n",
    "\n",
    "# The Tinker 2008 mass function\n",
    "nM = ccl.halos.MassFuncTinker08(mass_def=hmd_200m)\n",
    "\n",
    "# The Tinker 2010 halo bias\n",
    "bM = ccl.halos.HaloBiasTinker10(mass_def=hmd_200m)\n",
    "\n",
    "# The NFW profile to characterize the matter density around halos\n",
    "pM = ccl.halos.HaloProfileNFW(mass_def=hmd_200m, concentration=cM, fourier_analytic=True)"
   ]
  },
  {
   "cell_type": "code",
   "execution_count": null,
   "id": "58de7836-44c4-435c-b581-179bea7b3e30",
   "metadata": {},
   "outputs": [],
   "source": [
    "hmc = ccl.halos.HMCalculator(mass_function=nM, halo_bias=bM, mass_def=hmd_200m)"
   ]
  },
  {
   "cell_type": "code",
   "execution_count": null,
   "id": "c3e1fde4-5b85-4661-8dae-d4a84f6f9099",
   "metadata": {},
   "outputs": [],
   "source": [
    "pk_MM = ccl.halos.halomod_power_spectrum(cosmo, hmc, k_cemu, 1., pM)"
   ]
  },
  {
   "cell_type": "code",
   "execution_count": null,
   "id": "005b5750-0e48-4ced-bf33-a27695de554f",
   "metadata": {},
   "outputs": [],
   "source": [
    "plt.plot(k_cemu, pk_lin_cemu, 'b-', label=\"linear\")\n",
    "plt.plot(k_cemu, pk_MM, 'r-', label=\"non-linear\")\n",
    "\n",
    "plt.xscale('log')\n",
    "plt.yscale('log')\n",
    "plt.xticks(fontsize=18)\n",
    "plt.yticks(fontsize=18)\n",
    "plt.legend(loc='lower left',fontsize=10)\n",
    "plt.xlabel('$k\\quad[\\\\rm Mpc^{-1}]$', fontsize=22)\n",
    "plt.ylabel('$P(k)\\quad[{\\\\rm Mpc}]^3$', fontsize=22)\n",
    "plt.title(\"Halomodel\", fontsize=22)\n",
    "\n",
    "plt.tight_layout()\n",
    "plt.show()"
   ]
  },
  {
   "cell_type": "code",
   "execution_count": null,
   "id": "2c8202a3-915a-430d-a9f3-e7d1b987ae40",
   "metadata": {},
   "outputs": [],
   "source": [
    "plt.plot(k_cemu, pk_MM/pk_lin_cemu, 'b-', label=\"linear\")\n",
    "plt.xscale('log')\n",
    "plt.xticks(fontsize=18)\n",
    "plt.yticks(fontsize=18)\n",
    "plt.legend(loc='lower left',fontsize=10)\n",
    "plt.xlabel('$k\\quad[\\\\rm Mpc^{-1}]$', fontsize=22)\n",
    "plt.ylabel('Ratio $P(k)\\quad[{\\\\rm Mpc}]^3$', fontsize=22)\n",
    "plt.title(\"Halo Model \", fontsize=22)\n",
    "plt.xlim(10**(-4),10**0)\n",
    "plt.ylim(0.9,1.1)\n",
    "\n",
    "plt.tight_layout()\n",
    "plt.show()"
   ]
  },
  {
   "cell_type": "markdown",
   "id": "f73586fe-6a68-4a7c-b92a-5d90751a41b6",
   "metadata": {},
   "source": [
    "Use HMCode2020 directly through CAMB."
   ]
  },
  {
   "cell_type": "code",
   "execution_count": null,
   "id": "aaf1a5a3-60fa-4f6b-a2e8-677425ee174d",
   "metadata": {},
   "outputs": [],
   "source": [
    "ccl_cosmo_HMCode = ccl.Cosmology(\n",
    "    Omega_c=0.27, Omega_b=0.05, h=0.67, sigma8=0.8, n_s=0.96, Neff=3.04,\n",
    "    transfer_function=\"boltzmann_camb\",\n",
    "    matter_power_spectrum=\"camb\",\n",
    "    extra_parameters={\"camb\":\n",
    "         {\"halofit_version\": \"mead2020\",\n",
    "         }})\n",
    "\n",
    "pk_nonlin_ccl = ccl.nonlin_matter_power(ccl_cosmo_HMCode, k_cemu, 1.0)"
   ]
  },
  {
   "cell_type": "code",
   "execution_count": null,
   "id": "6ffe2269-0dbe-40ee-bb3e-887201b3441f",
   "metadata": {},
   "outputs": [],
   "source": [
    "plt.plot(k_cemu, pk_lin_cemu, 'b-', label=\"linear\")\n",
    "plt.plot(k_cemu, pk_nonlin_ccl, 'r-', label=\"non-linear\")\n",
    "\n",
    "plt.xscale('log')\n",
    "plt.yscale('log')\n",
    "plt.xticks(fontsize=18)\n",
    "plt.yticks(fontsize=18)\n",
    "plt.legend(loc='lower left',fontsize=10)\n",
    "plt.xlabel('$k\\quad[\\\\rm Mpc^{-1}]$', fontsize=22)\n",
    "plt.ylabel('$P(k)\\quad[{\\\\rm Mpc}]^3$', fontsize=22)\n",
    "plt.title(\"HMCode via camb\", fontsize=22)\n",
    "\n",
    "plt.tight_layout()\n",
    "plt.show()"
   ]
  },
  {
   "cell_type": "code",
   "execution_count": null,
   "id": "34a4c6a2-790e-469e-8154-10c54509bc99",
   "metadata": {},
   "outputs": [],
   "source": [
    "plt.plot(k_cemu, pk_nonlin_ccl/pk_lin_cemu, 'b-', label=\"linear\")\n",
    "plt.xscale('log')\n",
    "plt.xticks(fontsize=18)\n",
    "plt.yticks(fontsize=18)\n",
    "plt.legend(loc='lower left',fontsize=10)\n",
    "plt.xlabel('$k\\quad[\\\\rm Mpc^{-1}]$', fontsize=22)\n",
    "plt.ylabel('Ratio $P(k)\\quad[{\\\\rm Mpc}]^3$', fontsize=22)\n",
    "plt.title(\"Halo Model \", fontsize=22)\n",
    "plt.xlim(10**(-4),10**0)\n",
    "plt.ylim(0.9,1.1)\n",
    "\n",
    "plt.tight_layout()\n",
    "plt.show()"
   ]
  },
  {
   "cell_type": "code",
   "execution_count": null,
   "id": "15366576-7937-4af1-9acc-77c2c08836c9",
   "metadata": {},
   "outputs": [],
   "source": []
  }
 ],
 "metadata": {
  "kernelspec": {
   "display_name": "egproj",
   "language": "python",
   "name": "egproj"
  },
  "language_info": {
   "codemirror_mode": {
    "name": "ipython",
    "version": 3
   },
   "file_extension": ".py",
   "mimetype": "text/x-python",
   "name": "python",
   "nbconvert_exporter": "python",
   "pygments_lexer": "ipython3",
   "version": "3.10.12"
  }
 },
 "nbformat": 4,
 "nbformat_minor": 5
}
